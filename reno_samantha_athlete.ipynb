{
 "cells": [
  {
   "cell_type": "code",
   "execution_count": 310,
   "id": "da0b121e",
   "metadata": {},
   "outputs": [],
   "source": [
    "import pandas as pd\n",
    "import numpy as np\n",
    "import seaborn as sns\n",
    "import matplotlib.pyplot as plt\n",
    "#print(np.__version__)\n",
    "#print(pd.__version__)"
   ]
  },
  {
   "cell_type": "code",
   "execution_count": 311,
   "id": "dc70f069",
   "metadata": {},
   "outputs": [],
   "source": [
    "data = pd.read_csv('/mnt/c/users/renos/Desktop/olympic_events.csv')"
   ]
  },
  {
   "cell_type": "code",
   "execution_count": 312,
   "id": "49895fd8",
   "metadata": {},
   "outputs": [],
   "source": [
    "dict1 = pd.read_csv('/mnt/c/users/renos/Desktop/dictionary.csv')"
   ]
  },
  {
   "cell_type": "code",
   "execution_count": 313,
   "id": "5e52e6df",
   "metadata": {
    "scrolled": false
   },
   "outputs": [
    {
     "data": {
      "text/html": [
       "<div>\n",
       "<style scoped>\n",
       "    .dataframe tbody tr th:only-of-type {\n",
       "        vertical-align: middle;\n",
       "    }\n",
       "\n",
       "    .dataframe tbody tr th {\n",
       "        vertical-align: top;\n",
       "    }\n",
       "\n",
       "    .dataframe thead th {\n",
       "        text-align: right;\n",
       "    }\n",
       "</style>\n",
       "<table border=\"1\" class=\"dataframe\">\n",
       "  <thead>\n",
       "    <tr style=\"text-align: right;\">\n",
       "      <th></th>\n",
       "      <th>ID</th>\n",
       "      <th>Name</th>\n",
       "      <th>Sex</th>\n",
       "      <th>Age</th>\n",
       "      <th>Height</th>\n",
       "      <th>Weight</th>\n",
       "      <th>Team</th>\n",
       "      <th>NOC</th>\n",
       "      <th>Games</th>\n",
       "      <th>Year</th>\n",
       "      <th>Season</th>\n",
       "      <th>City</th>\n",
       "      <th>Sport</th>\n",
       "      <th>Event</th>\n",
       "      <th>Medal</th>\n",
       "    </tr>\n",
       "  </thead>\n",
       "  <tbody>\n",
       "    <tr>\n",
       "      <th>4341</th>\n",
       "      <td>2476</td>\n",
       "      <td>Ilian Vasiliev Aleksandrov</td>\n",
       "      <td>M</td>\n",
       "      <td>20.0</td>\n",
       "      <td>172.0</td>\n",
       "      <td>66.0</td>\n",
       "      <td>Bulgaria</td>\n",
       "      <td>BUL</td>\n",
       "      <td>1992 Summer</td>\n",
       "      <td>1992</td>\n",
       "      <td>Summer</td>\n",
       "      <td>Barcelona</td>\n",
       "      <td>Gymnastics</td>\n",
       "      <td>Gymnastics Men's Parallel Bars</td>\n",
       "      <td>NaN</td>\n",
       "    </tr>\n",
       "    <tr>\n",
       "      <th>143550</th>\n",
       "      <td>72051</td>\n",
       "      <td>Frank Luck</td>\n",
       "      <td>M</td>\n",
       "      <td>34.0</td>\n",
       "      <td>179.0</td>\n",
       "      <td>76.0</td>\n",
       "      <td>Germany</td>\n",
       "      <td>GER</td>\n",
       "      <td>2002 Winter</td>\n",
       "      <td>2002</td>\n",
       "      <td>Winter</td>\n",
       "      <td>Salt Lake City</td>\n",
       "      <td>Biathlon</td>\n",
       "      <td>Biathlon Men's 4 x 7.5 kilometres Relay</td>\n",
       "      <td>Silver</td>\n",
       "    </tr>\n",
       "    <tr>\n",
       "      <th>256031</th>\n",
       "      <td>128201</td>\n",
       "      <td>Frank Laird Waller</td>\n",
       "      <td>M</td>\n",
       "      <td>20.0</td>\n",
       "      <td>176.0</td>\n",
       "      <td>71.0</td>\n",
       "      <td>United States</td>\n",
       "      <td>USA</td>\n",
       "      <td>1904 Summer</td>\n",
       "      <td>1904</td>\n",
       "      <td>Summer</td>\n",
       "      <td>St. Louis</td>\n",
       "      <td>Athletics</td>\n",
       "      <td>Athletics Men's 400 metres</td>\n",
       "      <td>Silver</td>\n",
       "    </tr>\n",
       "    <tr>\n",
       "      <th>218653</th>\n",
       "      <td>109823</td>\n",
       "      <td>Mami Shindo-Honma</td>\n",
       "      <td>F</td>\n",
       "      <td>22.0</td>\n",
       "      <td>150.0</td>\n",
       "      <td>52.0</td>\n",
       "      <td>Japan</td>\n",
       "      <td>JPN</td>\n",
       "      <td>1998 Winter</td>\n",
       "      <td>1998</td>\n",
       "      <td>Winter</td>\n",
       "      <td>Nagano</td>\n",
       "      <td>Biathlon</td>\n",
       "      <td>Biathlon Women's 15 kilometres</td>\n",
       "      <td>NaN</td>\n",
       "    </tr>\n",
       "    <tr>\n",
       "      <th>107772</th>\n",
       "      <td>54479</td>\n",
       "      <td>Jeon Gwang-Rak</td>\n",
       "      <td>M</td>\n",
       "      <td>24.0</td>\n",
       "      <td>179.0</td>\n",
       "      <td>72.0</td>\n",
       "      <td>South Korea</td>\n",
       "      <td>KOR</td>\n",
       "      <td>1996 Summer</td>\n",
       "      <td>1996</td>\n",
       "      <td>Summer</td>\n",
       "      <td>Atlanta</td>\n",
       "      <td>Canoeing</td>\n",
       "      <td>Canoeing Men's Canadian Doubles, 500 metres</td>\n",
       "      <td>NaN</td>\n",
       "    </tr>\n",
       "  </tbody>\n",
       "</table>\n",
       "</div>"
      ],
      "text/plain": [
       "            ID                        Name Sex   Age  Height  Weight  \\\n",
       "4341      2476  Ilian Vasiliev Aleksandrov   M  20.0   172.0    66.0   \n",
       "143550   72051                  Frank Luck   M  34.0   179.0    76.0   \n",
       "256031  128201          Frank Laird Waller   M  20.0   176.0    71.0   \n",
       "218653  109823           Mami Shindo-Honma   F  22.0   150.0    52.0   \n",
       "107772   54479              Jeon Gwang-Rak   M  24.0   179.0    72.0   \n",
       "\n",
       "                 Team  NOC        Games  Year  Season            City  \\\n",
       "4341         Bulgaria  BUL  1992 Summer  1992  Summer       Barcelona   \n",
       "143550        Germany  GER  2002 Winter  2002  Winter  Salt Lake City   \n",
       "256031  United States  USA  1904 Summer  1904  Summer       St. Louis   \n",
       "218653          Japan  JPN  1998 Winter  1998  Winter          Nagano   \n",
       "107772    South Korea  KOR  1996 Summer  1996  Summer         Atlanta   \n",
       "\n",
       "             Sport                                        Event   Medal  \n",
       "4341    Gymnastics               Gymnastics Men's Parallel Bars     NaN  \n",
       "143550    Biathlon      Biathlon Men's 4 x 7.5 kilometres Relay  Silver  \n",
       "256031   Athletics                   Athletics Men's 400 metres  Silver  \n",
       "218653    Biathlon               Biathlon Women's 15 kilometres     NaN  \n",
       "107772    Canoeing  Canoeing Men's Canadian Doubles, 500 metres     NaN  "
      ]
     },
     "execution_count": 313,
     "metadata": {},
     "output_type": "execute_result"
    }
   ],
   "source": [
    "data.sample(5)"
   ]
  },
  {
   "cell_type": "code",
   "execution_count": 314,
   "id": "9b5a8597",
   "metadata": {},
   "outputs": [
    {
     "data": {
      "text/plain": [
       "(271116, 15)"
      ]
     },
     "execution_count": 314,
     "metadata": {},
     "output_type": "execute_result"
    }
   ],
   "source": [
    "data.shape"
   ]
  },
  {
   "cell_type": "code",
   "execution_count": 315,
   "id": "bcb9ea77",
   "metadata": {},
   "outputs": [
    {
     "data": {
      "text/plain": [
       "ID          int64\n",
       "Name       object\n",
       "Sex        object\n",
       "Age       float64\n",
       "Height    float64\n",
       "Weight    float64\n",
       "Team       object\n",
       "NOC        object\n",
       "Games      object\n",
       "Year        int64\n",
       "Season     object\n",
       "City       object\n",
       "Sport      object\n",
       "Event      object\n",
       "Medal      object\n",
       "dtype: object"
      ]
     },
     "execution_count": 315,
     "metadata": {},
     "output_type": "execute_result"
    }
   ],
   "source": [
    "data.dtypes"
   ]
  },
  {
   "cell_type": "code",
   "execution_count": 316,
   "id": "86295f7c",
   "metadata": {},
   "outputs": [
    {
     "data": {
      "text/html": [
       "<div>\n",
       "<style scoped>\n",
       "    .dataframe tbody tr th:only-of-type {\n",
       "        vertical-align: middle;\n",
       "    }\n",
       "\n",
       "    .dataframe tbody tr th {\n",
       "        vertical-align: top;\n",
       "    }\n",
       "\n",
       "    .dataframe thead th {\n",
       "        text-align: right;\n",
       "    }\n",
       "</style>\n",
       "<table border=\"1\" class=\"dataframe\">\n",
       "  <thead>\n",
       "    <tr style=\"text-align: right;\">\n",
       "      <th></th>\n",
       "      <th>Country</th>\n",
       "      <th>Code</th>\n",
       "      <th>Population</th>\n",
       "      <th>GDP per Capita</th>\n",
       "    </tr>\n",
       "  </thead>\n",
       "  <tbody>\n",
       "    <tr>\n",
       "      <th>0</th>\n",
       "      <td>Afghanistan</td>\n",
       "      <td>AFG</td>\n",
       "      <td>32526562.0</td>\n",
       "      <td>594.323081</td>\n",
       "    </tr>\n",
       "    <tr>\n",
       "      <th>1</th>\n",
       "      <td>Albania</td>\n",
       "      <td>ALB</td>\n",
       "      <td>2889167.0</td>\n",
       "      <td>3945.217582</td>\n",
       "    </tr>\n",
       "    <tr>\n",
       "      <th>2</th>\n",
       "      <td>Algeria</td>\n",
       "      <td>ALG</td>\n",
       "      <td>39666519.0</td>\n",
       "      <td>4206.031232</td>\n",
       "    </tr>\n",
       "    <tr>\n",
       "      <th>3</th>\n",
       "      <td>American Samoa*</td>\n",
       "      <td>ASA</td>\n",
       "      <td>55538.0</td>\n",
       "      <td>NaN</td>\n",
       "    </tr>\n",
       "    <tr>\n",
       "      <th>4</th>\n",
       "      <td>Andorra</td>\n",
       "      <td>AND</td>\n",
       "      <td>70473.0</td>\n",
       "      <td>NaN</td>\n",
       "    </tr>\n",
       "  </tbody>\n",
       "</table>\n",
       "</div>"
      ],
      "text/plain": [
       "           Country Code  Population  GDP per Capita\n",
       "0      Afghanistan  AFG  32526562.0      594.323081\n",
       "1          Albania  ALB   2889167.0     3945.217582\n",
       "2          Algeria  ALG  39666519.0     4206.031232\n",
       "3  American Samoa*  ASA     55538.0             NaN\n",
       "4          Andorra  AND     70473.0             NaN"
      ]
     },
     "execution_count": 316,
     "metadata": {},
     "output_type": "execute_result"
    }
   ],
   "source": [
    "dict1.head()"
   ]
  },
  {
   "cell_type": "code",
   "execution_count": 317,
   "id": "a06c4927",
   "metadata": {},
   "outputs": [
    {
     "data": {
      "text/plain": [
       "(201, 4)"
      ]
     },
     "execution_count": 317,
     "metadata": {},
     "output_type": "execute_result"
    }
   ],
   "source": [
    "dict1.shape"
   ]
  },
  {
   "cell_type": "code",
   "execution_count": 318,
   "id": "d2e011c2",
   "metadata": {},
   "outputs": [
    {
     "data": {
      "text/plain": [
       "Country            object\n",
       "Code               object\n",
       "Population        float64\n",
       "GDP per Capita    float64\n",
       "dtype: object"
      ]
     },
     "execution_count": 318,
     "metadata": {},
     "output_type": "execute_result"
    }
   ],
   "source": [
    "dict1.dtypes"
   ]
  },
  {
   "cell_type": "code",
   "execution_count": 319,
   "id": "6db40ad9",
   "metadata": {},
   "outputs": [
    {
     "data": {
      "text/html": [
       "<div>\n",
       "<style scoped>\n",
       "    .dataframe tbody tr th:only-of-type {\n",
       "        vertical-align: middle;\n",
       "    }\n",
       "\n",
       "    .dataframe tbody tr th {\n",
       "        vertical-align: top;\n",
       "    }\n",
       "\n",
       "    .dataframe thead th {\n",
       "        text-align: right;\n",
       "    }\n",
       "</style>\n",
       "<table border=\"1\" class=\"dataframe\">\n",
       "  <thead>\n",
       "    <tr style=\"text-align: right;\">\n",
       "      <th></th>\n",
       "      <th>Country</th>\n",
       "      <th>NOC</th>\n",
       "      <th>Population</th>\n",
       "      <th>GDP per Capita</th>\n",
       "    </tr>\n",
       "  </thead>\n",
       "  <tbody>\n",
       "    <tr>\n",
       "      <th>196</th>\n",
       "      <td>Vietnam</td>\n",
       "      <td>VIE</td>\n",
       "      <td>91703800.0</td>\n",
       "      <td>2111.138024</td>\n",
       "    </tr>\n",
       "    <tr>\n",
       "      <th>189</th>\n",
       "      <td>United Arab Emirates</td>\n",
       "      <td>UAE</td>\n",
       "      <td>9156963.0</td>\n",
       "      <td>40438.762934</td>\n",
       "    </tr>\n",
       "    <tr>\n",
       "      <th>200</th>\n",
       "      <td>Zimbabwe</td>\n",
       "      <td>ZIM</td>\n",
       "      <td>15602751.0</td>\n",
       "      <td>924.143819</td>\n",
       "    </tr>\n",
       "    <tr>\n",
       "      <th>29</th>\n",
       "      <td>Bulgaria</td>\n",
       "      <td>BUL</td>\n",
       "      <td>7177991.0</td>\n",
       "      <td>6993.477360</td>\n",
       "    </tr>\n",
       "  </tbody>\n",
       "</table>\n",
       "</div>"
      ],
      "text/plain": [
       "                  Country  NOC  Population  GDP per Capita\n",
       "196               Vietnam  VIE  91703800.0     2111.138024\n",
       "189  United Arab Emirates  UAE   9156963.0    40438.762934\n",
       "200              Zimbabwe  ZIM  15602751.0      924.143819\n",
       "29               Bulgaria  BUL   7177991.0     6993.477360"
      ]
     },
     "execution_count": 319,
     "metadata": {},
     "output_type": "execute_result"
    }
   ],
   "source": [
    "dict1.rename(columns = {'Code': 'NOC'}, inplace=True)\n",
    "dict1.sample(4)"
   ]
  },
  {
   "cell_type": "code",
   "execution_count": 320,
   "id": "ab6d6960",
   "metadata": {
    "scrolled": true
   },
   "outputs": [
    {
     "data": {
      "text/html": [
       "<div>\n",
       "<style scoped>\n",
       "    .dataframe tbody tr th:only-of-type {\n",
       "        vertical-align: middle;\n",
       "    }\n",
       "\n",
       "    .dataframe tbody tr th {\n",
       "        vertical-align: top;\n",
       "    }\n",
       "\n",
       "    .dataframe thead th {\n",
       "        text-align: right;\n",
       "    }\n",
       "</style>\n",
       "<table border=\"1\" class=\"dataframe\">\n",
       "  <thead>\n",
       "    <tr style=\"text-align: right;\">\n",
       "      <th></th>\n",
       "      <th>ID</th>\n",
       "      <th>Name</th>\n",
       "      <th>Sex</th>\n",
       "      <th>Age</th>\n",
       "      <th>Height</th>\n",
       "      <th>Weight</th>\n",
       "      <th>Team</th>\n",
       "      <th>NOC</th>\n",
       "      <th>Games</th>\n",
       "      <th>Year</th>\n",
       "      <th>Season</th>\n",
       "      <th>City</th>\n",
       "      <th>Sport</th>\n",
       "      <th>Event</th>\n",
       "      <th>Medal</th>\n",
       "      <th>Country</th>\n",
       "      <th>Population</th>\n",
       "      <th>GDP per Capita</th>\n",
       "    </tr>\n",
       "  </thead>\n",
       "  <tbody>\n",
       "    <tr>\n",
       "      <th>0</th>\n",
       "      <td>1</td>\n",
       "      <td>A Dijiang</td>\n",
       "      <td>M</td>\n",
       "      <td>24.0</td>\n",
       "      <td>180.0</td>\n",
       "      <td>80.0</td>\n",
       "      <td>China</td>\n",
       "      <td>CHN</td>\n",
       "      <td>1992 Summer</td>\n",
       "      <td>1992</td>\n",
       "      <td>Summer</td>\n",
       "      <td>Barcelona</td>\n",
       "      <td>Basketball</td>\n",
       "      <td>Basketball Men's Basketball</td>\n",
       "      <td>NaN</td>\n",
       "      <td>China</td>\n",
       "      <td>1.371220e+09</td>\n",
       "      <td>8027.683810</td>\n",
       "    </tr>\n",
       "    <tr>\n",
       "      <th>1</th>\n",
       "      <td>2</td>\n",
       "      <td>A Lamusi</td>\n",
       "      <td>M</td>\n",
       "      <td>23.0</td>\n",
       "      <td>170.0</td>\n",
       "      <td>60.0</td>\n",
       "      <td>China</td>\n",
       "      <td>CHN</td>\n",
       "      <td>2012 Summer</td>\n",
       "      <td>2012</td>\n",
       "      <td>Summer</td>\n",
       "      <td>London</td>\n",
       "      <td>Judo</td>\n",
       "      <td>Judo Men's Extra-Lightweight</td>\n",
       "      <td>NaN</td>\n",
       "      <td>China</td>\n",
       "      <td>1.371220e+09</td>\n",
       "      <td>8027.683810</td>\n",
       "    </tr>\n",
       "    <tr>\n",
       "      <th>2</th>\n",
       "      <td>3</td>\n",
       "      <td>Gunnar Nielsen Aaby</td>\n",
       "      <td>M</td>\n",
       "      <td>24.0</td>\n",
       "      <td>NaN</td>\n",
       "      <td>NaN</td>\n",
       "      <td>Denmark</td>\n",
       "      <td>DEN</td>\n",
       "      <td>1920 Summer</td>\n",
       "      <td>1920</td>\n",
       "      <td>Summer</td>\n",
       "      <td>Antwerpen</td>\n",
       "      <td>Football</td>\n",
       "      <td>Football Men's Football</td>\n",
       "      <td>NaN</td>\n",
       "      <td>Denmark</td>\n",
       "      <td>5.676002e+06</td>\n",
       "      <td>51989.293471</td>\n",
       "    </tr>\n",
       "  </tbody>\n",
       "</table>\n",
       "</div>"
      ],
      "text/plain": [
       "   ID                 Name Sex   Age  Height  Weight     Team  NOC  \\\n",
       "0   1            A Dijiang   M  24.0   180.0    80.0    China  CHN   \n",
       "1   2             A Lamusi   M  23.0   170.0    60.0    China  CHN   \n",
       "2   3  Gunnar Nielsen Aaby   M  24.0     NaN     NaN  Denmark  DEN   \n",
       "\n",
       "         Games  Year  Season       City       Sport  \\\n",
       "0  1992 Summer  1992  Summer  Barcelona  Basketball   \n",
       "1  2012 Summer  2012  Summer     London        Judo   \n",
       "2  1920 Summer  1920  Summer  Antwerpen    Football   \n",
       "\n",
       "                          Event Medal  Country    Population  GDP per Capita  \n",
       "0   Basketball Men's Basketball   NaN    China  1.371220e+09     8027.683810  \n",
       "1  Judo Men's Extra-Lightweight   NaN    China  1.371220e+09     8027.683810  \n",
       "2       Football Men's Football   NaN  Denmark  5.676002e+06    51989.293471  "
      ]
     },
     "execution_count": 320,
     "metadata": {},
     "output_type": "execute_result"
    }
   ],
   "source": [
    "##LEFT MERGE ON NOC\n",
    "merge1 = pd.merge(data, dict1, on='NOC', how='left')\n",
    "merge1.head(3)"
   ]
  },
  {
   "cell_type": "code",
   "execution_count": 321,
   "id": "5a4e549b",
   "metadata": {},
   "outputs": [
    {
     "data": {
      "text/plain": [
       "(271116, 18)"
      ]
     },
     "execution_count": 321,
     "metadata": {},
     "output_type": "execute_result"
    }
   ],
   "source": [
    "merge1.shape"
   ]
  },
  {
   "cell_type": "code",
   "execution_count": 322,
   "id": "51c21c1d",
   "metadata": {},
   "outputs": [
    {
     "data": {
      "text/html": [
       "<div>\n",
       "<style scoped>\n",
       "    .dataframe tbody tr th:only-of-type {\n",
       "        vertical-align: middle;\n",
       "    }\n",
       "\n",
       "    .dataframe tbody tr th {\n",
       "        vertical-align: top;\n",
       "    }\n",
       "\n",
       "    .dataframe thead th {\n",
       "        text-align: right;\n",
       "    }\n",
       "</style>\n",
       "<table border=\"1\" class=\"dataframe\">\n",
       "  <thead>\n",
       "    <tr style=\"text-align: right;\">\n",
       "      <th></th>\n",
       "      <th>Name</th>\n",
       "      <th>Year</th>\n",
       "      <th>Sex</th>\n",
       "      <th>Age</th>\n",
       "      <th>Height</th>\n",
       "      <th>Weight</th>\n",
       "      <th>NOC</th>\n",
       "      <th>Medal</th>\n",
       "      <th>Season</th>\n",
       "      <th>Sport</th>\n",
       "      <th>City</th>\n",
       "      <th>Population</th>\n",
       "    </tr>\n",
       "  </thead>\n",
       "  <tbody>\n",
       "    <tr>\n",
       "      <th>0</th>\n",
       "      <td>A Dijiang</td>\n",
       "      <td>1992</td>\n",
       "      <td>M</td>\n",
       "      <td>24.0</td>\n",
       "      <td>180.0</td>\n",
       "      <td>80.0</td>\n",
       "      <td>CHN</td>\n",
       "      <td>NaN</td>\n",
       "      <td>Summer</td>\n",
       "      <td>Basketball</td>\n",
       "      <td>Barcelona</td>\n",
       "      <td>1.371220e+09</td>\n",
       "    </tr>\n",
       "    <tr>\n",
       "      <th>1</th>\n",
       "      <td>A Lamusi</td>\n",
       "      <td>2012</td>\n",
       "      <td>M</td>\n",
       "      <td>23.0</td>\n",
       "      <td>170.0</td>\n",
       "      <td>60.0</td>\n",
       "      <td>CHN</td>\n",
       "      <td>NaN</td>\n",
       "      <td>Summer</td>\n",
       "      <td>Judo</td>\n",
       "      <td>London</td>\n",
       "      <td>1.371220e+09</td>\n",
       "    </tr>\n",
       "    <tr>\n",
       "      <th>2</th>\n",
       "      <td>Gunnar Nielsen Aaby</td>\n",
       "      <td>1920</td>\n",
       "      <td>M</td>\n",
       "      <td>24.0</td>\n",
       "      <td>NaN</td>\n",
       "      <td>NaN</td>\n",
       "      <td>DEN</td>\n",
       "      <td>NaN</td>\n",
       "      <td>Summer</td>\n",
       "      <td>Football</td>\n",
       "      <td>Antwerpen</td>\n",
       "      <td>5.676002e+06</td>\n",
       "    </tr>\n",
       "    <tr>\n",
       "      <th>3</th>\n",
       "      <td>Edgar Lindenau Aabye</td>\n",
       "      <td>1900</td>\n",
       "      <td>M</td>\n",
       "      <td>34.0</td>\n",
       "      <td>NaN</td>\n",
       "      <td>NaN</td>\n",
       "      <td>DEN</td>\n",
       "      <td>Gold</td>\n",
       "      <td>Summer</td>\n",
       "      <td>Tug-Of-War</td>\n",
       "      <td>Paris</td>\n",
       "      <td>5.676002e+06</td>\n",
       "    </tr>\n",
       "    <tr>\n",
       "      <th>4</th>\n",
       "      <td>Christine Jacoba Aaftink</td>\n",
       "      <td>1988</td>\n",
       "      <td>F</td>\n",
       "      <td>21.0</td>\n",
       "      <td>185.0</td>\n",
       "      <td>82.0</td>\n",
       "      <td>NED</td>\n",
       "      <td>NaN</td>\n",
       "      <td>Winter</td>\n",
       "      <td>Speed Skating</td>\n",
       "      <td>Calgary</td>\n",
       "      <td>1.693652e+07</td>\n",
       "    </tr>\n",
       "    <tr>\n",
       "      <th>...</th>\n",
       "      <td>...</td>\n",
       "      <td>...</td>\n",
       "      <td>...</td>\n",
       "      <td>...</td>\n",
       "      <td>...</td>\n",
       "      <td>...</td>\n",
       "      <td>...</td>\n",
       "      <td>...</td>\n",
       "      <td>...</td>\n",
       "      <td>...</td>\n",
       "      <td>...</td>\n",
       "      <td>...</td>\n",
       "    </tr>\n",
       "    <tr>\n",
       "      <th>271111</th>\n",
       "      <td>Andrzej ya</td>\n",
       "      <td>1976</td>\n",
       "      <td>M</td>\n",
       "      <td>29.0</td>\n",
       "      <td>179.0</td>\n",
       "      <td>89.0</td>\n",
       "      <td>POL</td>\n",
       "      <td>NaN</td>\n",
       "      <td>Winter</td>\n",
       "      <td>Luge</td>\n",
       "      <td>Innsbruck</td>\n",
       "      <td>3.799949e+07</td>\n",
       "    </tr>\n",
       "    <tr>\n",
       "      <th>271112</th>\n",
       "      <td>Piotr ya</td>\n",
       "      <td>2014</td>\n",
       "      <td>M</td>\n",
       "      <td>27.0</td>\n",
       "      <td>176.0</td>\n",
       "      <td>59.0</td>\n",
       "      <td>POL</td>\n",
       "      <td>NaN</td>\n",
       "      <td>Winter</td>\n",
       "      <td>Ski Jumping</td>\n",
       "      <td>Sochi</td>\n",
       "      <td>3.799949e+07</td>\n",
       "    </tr>\n",
       "    <tr>\n",
       "      <th>271113</th>\n",
       "      <td>Piotr ya</td>\n",
       "      <td>2014</td>\n",
       "      <td>M</td>\n",
       "      <td>27.0</td>\n",
       "      <td>176.0</td>\n",
       "      <td>59.0</td>\n",
       "      <td>POL</td>\n",
       "      <td>NaN</td>\n",
       "      <td>Winter</td>\n",
       "      <td>Ski Jumping</td>\n",
       "      <td>Sochi</td>\n",
       "      <td>3.799949e+07</td>\n",
       "    </tr>\n",
       "    <tr>\n",
       "      <th>271114</th>\n",
       "      <td>Tomasz Ireneusz ya</td>\n",
       "      <td>1998</td>\n",
       "      <td>M</td>\n",
       "      <td>30.0</td>\n",
       "      <td>185.0</td>\n",
       "      <td>96.0</td>\n",
       "      <td>POL</td>\n",
       "      <td>NaN</td>\n",
       "      <td>Winter</td>\n",
       "      <td>Bobsleigh</td>\n",
       "      <td>Nagano</td>\n",
       "      <td>3.799949e+07</td>\n",
       "    </tr>\n",
       "    <tr>\n",
       "      <th>271115</th>\n",
       "      <td>Tomasz Ireneusz ya</td>\n",
       "      <td>2002</td>\n",
       "      <td>M</td>\n",
       "      <td>34.0</td>\n",
       "      <td>185.0</td>\n",
       "      <td>96.0</td>\n",
       "      <td>POL</td>\n",
       "      <td>NaN</td>\n",
       "      <td>Winter</td>\n",
       "      <td>Bobsleigh</td>\n",
       "      <td>Salt Lake City</td>\n",
       "      <td>3.799949e+07</td>\n",
       "    </tr>\n",
       "  </tbody>\n",
       "</table>\n",
       "<p>271116 rows × 12 columns</p>\n",
       "</div>"
      ],
      "text/plain": [
       "                            Name  Year Sex   Age  Height  Weight  NOC Medal  \\\n",
       "0                      A Dijiang  1992   M  24.0   180.0    80.0  CHN   NaN   \n",
       "1                       A Lamusi  2012   M  23.0   170.0    60.0  CHN   NaN   \n",
       "2            Gunnar Nielsen Aaby  1920   M  24.0     NaN     NaN  DEN   NaN   \n",
       "3           Edgar Lindenau Aabye  1900   M  34.0     NaN     NaN  DEN  Gold   \n",
       "4       Christine Jacoba Aaftink  1988   F  21.0   185.0    82.0  NED   NaN   \n",
       "...                          ...   ...  ..   ...     ...     ...  ...   ...   \n",
       "271111                Andrzej ya  1976   M  29.0   179.0    89.0  POL   NaN   \n",
       "271112                  Piotr ya  2014   M  27.0   176.0    59.0  POL   NaN   \n",
       "271113                  Piotr ya  2014   M  27.0   176.0    59.0  POL   NaN   \n",
       "271114        Tomasz Ireneusz ya  1998   M  30.0   185.0    96.0  POL   NaN   \n",
       "271115        Tomasz Ireneusz ya  2002   M  34.0   185.0    96.0  POL   NaN   \n",
       "\n",
       "        Season          Sport            City    Population  \n",
       "0       Summer     Basketball       Barcelona  1.371220e+09  \n",
       "1       Summer           Judo          London  1.371220e+09  \n",
       "2       Summer       Football       Antwerpen  5.676002e+06  \n",
       "3       Summer     Tug-Of-War           Paris  5.676002e+06  \n",
       "4       Winter  Speed Skating         Calgary  1.693652e+07  \n",
       "...        ...            ...             ...           ...  \n",
       "271111  Winter           Luge       Innsbruck  3.799949e+07  \n",
       "271112  Winter    Ski Jumping           Sochi  3.799949e+07  \n",
       "271113  Winter    Ski Jumping           Sochi  3.799949e+07  \n",
       "271114  Winter      Bobsleigh          Nagano  3.799949e+07  \n",
       "271115  Winter      Bobsleigh  Salt Lake City  3.799949e+07  \n",
       "\n",
       "[271116 rows x 12 columns]"
      ]
     },
     "execution_count": 322,
     "metadata": {},
     "output_type": "execute_result"
    }
   ],
   "source": [
    "#NEW DF WITH USEFUL COL\n",
    "merge2=merge1.filter(['Name','Year', 'Sex', 'Age', 'Height', 'Weight', 'NOC', 'Medal', 'Season', 'Sport','City','Population'])\n",
    "merge2"
   ]
  },
  {
   "cell_type": "code",
   "execution_count": 323,
   "id": "b13dba32",
   "metadata": {},
   "outputs": [
    {
     "data": {
      "text/plain": [
       "Name           object\n",
       "Year            int64\n",
       "Sex            object\n",
       "Age           float64\n",
       "Height        float64\n",
       "Weight        float64\n",
       "NOC            object\n",
       "Medal          object\n",
       "Season         object\n",
       "Sport          object\n",
       "City           object\n",
       "Population    float64\n",
       "dtype: object"
      ]
     },
     "execution_count": 323,
     "metadata": {},
     "output_type": "execute_result"
    }
   ],
   "source": [
    "merge2.dtypes"
   ]
  },
  {
   "cell_type": "code",
   "execution_count": 324,
   "id": "4082cca9",
   "metadata": {},
   "outputs": [
    {
     "data": {
      "text/html": [
       "<div>\n",
       "<style scoped>\n",
       "    .dataframe tbody tr th:only-of-type {\n",
       "        vertical-align: middle;\n",
       "    }\n",
       "\n",
       "    .dataframe tbody tr th {\n",
       "        vertical-align: top;\n",
       "    }\n",
       "\n",
       "    .dataframe thead th {\n",
       "        text-align: right;\n",
       "    }\n",
       "</style>\n",
       "<table border=\"1\" class=\"dataframe\">\n",
       "  <thead>\n",
       "    <tr style=\"text-align: right;\">\n",
       "      <th></th>\n",
       "      <th>Name</th>\n",
       "      <th>Year</th>\n",
       "      <th>Sex</th>\n",
       "      <th>Age</th>\n",
       "      <th>Height</th>\n",
       "      <th>Weight</th>\n",
       "      <th>NOC</th>\n",
       "      <th>Medal</th>\n",
       "      <th>Season</th>\n",
       "      <th>Sport</th>\n",
       "      <th>City</th>\n",
       "      <th>Population</th>\n",
       "    </tr>\n",
       "  </thead>\n",
       "  <tbody>\n",
       "    <tr>\n",
       "      <th>164487</th>\n",
       "      <td>Augustus Moulton</td>\n",
       "      <td>1984</td>\n",
       "      <td>M</td>\n",
       "      <td>24.0</td>\n",
       "      <td>173.0</td>\n",
       "      <td>64.0</td>\n",
       "      <td>LBR</td>\n",
       "      <td>N</td>\n",
       "      <td>Summer</td>\n",
       "      <td>Athletics</td>\n",
       "      <td>Los Angeles</td>\n",
       "      <td>4503438.0</td>\n",
       "    </tr>\n",
       "    <tr>\n",
       "      <th>5753</th>\n",
       "      <td>Mohamed Aly</td>\n",
       "      <td>1948</td>\n",
       "      <td>M</td>\n",
       "      <td>NaN</td>\n",
       "      <td>NaN</td>\n",
       "      <td>NaN</td>\n",
       "      <td>EGY</td>\n",
       "      <td>N</td>\n",
       "      <td>Summer</td>\n",
       "      <td>Gymnastics</td>\n",
       "      <td>London</td>\n",
       "      <td>91508084.0</td>\n",
       "    </tr>\n",
       "    <tr>\n",
       "      <th>260637</th>\n",
       "      <td>Katarina \"Kati\" Wilhelm</td>\n",
       "      <td>1998</td>\n",
       "      <td>F</td>\n",
       "      <td>21.0</td>\n",
       "      <td>173.0</td>\n",
       "      <td>60.0</td>\n",
       "      <td>GER</td>\n",
       "      <td>N</td>\n",
       "      <td>Winter</td>\n",
       "      <td>Cross Country Skiing</td>\n",
       "      <td>Nagano</td>\n",
       "      <td>81413145.0</td>\n",
       "    </tr>\n",
       "    <tr>\n",
       "      <th>233242</th>\n",
       "      <td>Aksel Lund Svindal</td>\n",
       "      <td>2006</td>\n",
       "      <td>M</td>\n",
       "      <td>23.0</td>\n",
       "      <td>189.0</td>\n",
       "      <td>100.0</td>\n",
       "      <td>NOR</td>\n",
       "      <td>N</td>\n",
       "      <td>Winter</td>\n",
       "      <td>Alpine Skiing</td>\n",
       "      <td>Torino</td>\n",
       "      <td>5195921.0</td>\n",
       "    </tr>\n",
       "    <tr>\n",
       "      <th>200651</th>\n",
       "      <td>Gheorghe Riffelt</td>\n",
       "      <td>1964</td>\n",
       "      <td>M</td>\n",
       "      <td>28.0</td>\n",
       "      <td>181.0</td>\n",
       "      <td>81.0</td>\n",
       "      <td>ROU</td>\n",
       "      <td>N</td>\n",
       "      <td>Summer</td>\n",
       "      <td>Rowing</td>\n",
       "      <td>Tokyo</td>\n",
       "      <td>NaN</td>\n",
       "    </tr>\n",
       "    <tr>\n",
       "      <th>98235</th>\n",
       "      <td>Hong Cha-Ok</td>\n",
       "      <td>1988</td>\n",
       "      <td>F</td>\n",
       "      <td>18.0</td>\n",
       "      <td>165.0</td>\n",
       "      <td>54.0</td>\n",
       "      <td>KOR</td>\n",
       "      <td>N</td>\n",
       "      <td>Summer</td>\n",
       "      <td>Table Tennis</td>\n",
       "      <td>Seoul</td>\n",
       "      <td>50617045.0</td>\n",
       "    </tr>\n",
       "    <tr>\n",
       "      <th>203013</th>\n",
       "      <td>Jason Nicholas Rogers</td>\n",
       "      <td>2004</td>\n",
       "      <td>M</td>\n",
       "      <td>21.0</td>\n",
       "      <td>183.0</td>\n",
       "      <td>84.0</td>\n",
       "      <td>USA</td>\n",
       "      <td>N</td>\n",
       "      <td>Summer</td>\n",
       "      <td>Fencing</td>\n",
       "      <td>Athina</td>\n",
       "      <td>321418820.0</td>\n",
       "    </tr>\n",
       "    <tr>\n",
       "      <th>18254</th>\n",
       "      <td>Valrie Bellenoue</td>\n",
       "      <td>2000</td>\n",
       "      <td>F</td>\n",
       "      <td>25.0</td>\n",
       "      <td>169.0</td>\n",
       "      <td>59.0</td>\n",
       "      <td>FRA</td>\n",
       "      <td>N</td>\n",
       "      <td>Summer</td>\n",
       "      <td>Shooting</td>\n",
       "      <td>Sydney</td>\n",
       "      <td>66808385.0</td>\n",
       "    </tr>\n",
       "  </tbody>\n",
       "</table>\n",
       "</div>"
      ],
      "text/plain": [
       "                           Name  Year Sex   Age  Height  Weight  NOC Medal  \\\n",
       "164487         Augustus Moulton  1984   M  24.0   173.0    64.0  LBR     N   \n",
       "5753                Mohamed Aly  1948   M   NaN     NaN     NaN  EGY     N   \n",
       "260637  Katarina \"Kati\" Wilhelm  1998   F  21.0   173.0    60.0  GER     N   \n",
       "233242       Aksel Lund Svindal  2006   M  23.0   189.0   100.0  NOR     N   \n",
       "200651         Gheorghe Riffelt  1964   M  28.0   181.0    81.0  ROU     N   \n",
       "98235               Hong Cha-Ok  1988   F  18.0   165.0    54.0  KOR     N   \n",
       "203013    Jason Nicholas Rogers  2004   M  21.0   183.0    84.0  USA     N   \n",
       "18254          Valrie Bellenoue  2000   F  25.0   169.0    59.0  FRA     N   \n",
       "\n",
       "        Season                 Sport         City   Population  \n",
       "164487  Summer             Athletics  Los Angeles    4503438.0  \n",
       "5753    Summer            Gymnastics       London   91508084.0  \n",
       "260637  Winter  Cross Country Skiing       Nagano   81413145.0  \n",
       "233242  Winter         Alpine Skiing       Torino    5195921.0  \n",
       "200651  Summer                Rowing        Tokyo          NaN  \n",
       "98235   Summer          Table Tennis        Seoul   50617045.0  \n",
       "203013  Summer               Fencing       Athina  321418820.0  \n",
       "18254   Summer              Shooting       Sydney   66808385.0  "
      ]
     },
     "execution_count": 324,
     "metadata": {},
     "output_type": "execute_result"
    }
   ],
   "source": [
    "##FINAL COPY OF COMBINED DF == MERGE2\n",
    "\n",
    "#NaN in MEDAL is meaningful (did not place)\n",
    "merge2['Medal'] = merge2['Medal'].map({'Gold': 'G', \"Silver\": 'S', \"Bronze\": 'B', np.nan: 'N'})\n",
    "merge2.sample(8)"
   ]
  },
  {
   "cell_type": "code",
   "execution_count": 325,
   "id": "17cee0a6",
   "metadata": {},
   "outputs": [
    {
     "data": {
      "text/plain": [
       "Name           object\n",
       "Year            int64\n",
       "Sex            object\n",
       "Age           float64\n",
       "Height        float64\n",
       "Weight        float64\n",
       "NOC            object\n",
       "Medal          object\n",
       "Season         object\n",
       "Sport          object\n",
       "City           object\n",
       "Population    float64\n",
       "dtype: object"
      ]
     },
     "execution_count": 325,
     "metadata": {},
     "output_type": "execute_result"
    }
   ],
   "source": [
    "merge2.dtypes"
   ]
  },
  {
   "cell_type": "code",
   "execution_count": 326,
   "id": "227eb286",
   "metadata": {},
   "outputs": [
    {
     "data": {
      "text/html": [
       "<div>\n",
       "<style scoped>\n",
       "    .dataframe tbody tr th:only-of-type {\n",
       "        vertical-align: middle;\n",
       "    }\n",
       "\n",
       "    .dataframe tbody tr th {\n",
       "        vertical-align: top;\n",
       "    }\n",
       "\n",
       "    .dataframe thead th {\n",
       "        text-align: right;\n",
       "    }\n",
       "</style>\n",
       "<table border=\"1\" class=\"dataframe\">\n",
       "  <thead>\n",
       "    <tr style=\"text-align: right;\">\n",
       "      <th></th>\n",
       "      <th>Sex</th>\n",
       "      <th>Age</th>\n",
       "      <th>Height</th>\n",
       "      <th>Weight</th>\n",
       "      <th>Medal</th>\n",
       "      <th>Year</th>\n",
       "    </tr>\n",
       "  </thead>\n",
       "  <tbody>\n",
       "    <tr>\n",
       "      <th>0</th>\n",
       "      <td>M</td>\n",
       "      <td>24.0</td>\n",
       "      <td>180.0</td>\n",
       "      <td>80.0</td>\n",
       "      <td>N</td>\n",
       "      <td>1992</td>\n",
       "    </tr>\n",
       "    <tr>\n",
       "      <th>1</th>\n",
       "      <td>M</td>\n",
       "      <td>23.0</td>\n",
       "      <td>170.0</td>\n",
       "      <td>60.0</td>\n",
       "      <td>N</td>\n",
       "      <td>2012</td>\n",
       "    </tr>\n",
       "    <tr>\n",
       "      <th>2</th>\n",
       "      <td>M</td>\n",
       "      <td>24.0</td>\n",
       "      <td>NaN</td>\n",
       "      <td>NaN</td>\n",
       "      <td>N</td>\n",
       "      <td>1920</td>\n",
       "    </tr>\n",
       "    <tr>\n",
       "      <th>3</th>\n",
       "      <td>M</td>\n",
       "      <td>34.0</td>\n",
       "      <td>NaN</td>\n",
       "      <td>NaN</td>\n",
       "      <td>G</td>\n",
       "      <td>1900</td>\n",
       "    </tr>\n",
       "    <tr>\n",
       "      <th>4</th>\n",
       "      <td>F</td>\n",
       "      <td>21.0</td>\n",
       "      <td>185.0</td>\n",
       "      <td>82.0</td>\n",
       "      <td>N</td>\n",
       "      <td>1988</td>\n",
       "    </tr>\n",
       "  </tbody>\n",
       "</table>\n",
       "</div>"
      ],
      "text/plain": [
       "  Sex   Age  Height  Weight Medal  Year\n",
       "0   M  24.0   180.0    80.0     N  1992\n",
       "1   M  23.0   170.0    60.0     N  2012\n",
       "2   M  24.0     NaN     NaN     N  1920\n",
       "3   M  34.0     NaN     NaN     G  1900\n",
       "4   F  21.0   185.0    82.0     N  1988"
      ]
     },
     "execution_count": 326,
     "metadata": {},
     "output_type": "execute_result"
    }
   ],
   "source": [
    "#MAKE ATHLETE DF FOR ANALYSIS OF ATHLETE CHARACTERISTICS\n",
    "athlete = merge2[['Sex', 'Age', 'Height', 'Weight','Medal', 'Year']].copy()\n",
    "athlete.head()\n",
    "#does this work\n",
    "athlete = merge2.filter(['Sex', 'Age', 'Height', 'Weight','Medal', 'Year'])\n",
    "athlete.head()"
   ]
  },
  {
   "cell_type": "code",
   "execution_count": 327,
   "id": "289d7118",
   "metadata": {
    "scrolled": true
   },
   "outputs": [
    {
     "data": {
      "text/plain": [
       "Sex\n",
       "F    167.839740\n",
       "M    178.858463\n",
       "Name: Height, dtype: float64"
      ]
     },
     "execution_count": 327,
     "metadata": {},
     "output_type": "execute_result"
    }
   ],
   "source": [
    "#FIND MEAN OF HEIGHT PER SEX FOR FILLING NaN IN HEIGHT\n",
    "athlete.groupby('Sex')['Height'].mean()"
   ]
  },
  {
   "cell_type": "code",
   "execution_count": 328,
   "id": "e8c863e2",
   "metadata": {},
   "outputs": [],
   "source": [
    "f = athlete['Height'].isna()\n",
    "athlete.loc[f, \"Height\"] = np.where(athlete.loc[f, 'Sex'].eq('F'), 167.84, 178.86)"
   ]
  },
  {
   "cell_type": "code",
   "execution_count": 329,
   "id": "b386baa7",
   "metadata": {},
   "outputs": [
    {
     "data": {
      "text/plain": [
       "Sex\n",
       "F    60.021252\n",
       "M    75.743677\n",
       "Name: Weight, dtype: float64"
      ]
     },
     "execution_count": 329,
     "metadata": {},
     "output_type": "execute_result"
    }
   ],
   "source": [
    "#FIND MEAN OF WEIGHT PER SEX FOR FILLING NaN IN WEIGHT\n",
    "athlete.groupby('Sex')['Weight'].mean()"
   ]
  },
  {
   "cell_type": "code",
   "execution_count": 330,
   "id": "9122ba72",
   "metadata": {},
   "outputs": [
    {
     "data": {
      "text/html": [
       "<div>\n",
       "<style scoped>\n",
       "    .dataframe tbody tr th:only-of-type {\n",
       "        vertical-align: middle;\n",
       "    }\n",
       "\n",
       "    .dataframe tbody tr th {\n",
       "        vertical-align: top;\n",
       "    }\n",
       "\n",
       "    .dataframe thead th {\n",
       "        text-align: right;\n",
       "    }\n",
       "</style>\n",
       "<table border=\"1\" class=\"dataframe\">\n",
       "  <thead>\n",
       "    <tr style=\"text-align: right;\">\n",
       "      <th></th>\n",
       "      <th>Sex</th>\n",
       "      <th>Age</th>\n",
       "      <th>Height</th>\n",
       "      <th>Weight</th>\n",
       "      <th>Medal</th>\n",
       "      <th>Year</th>\n",
       "    </tr>\n",
       "  </thead>\n",
       "  <tbody>\n",
       "    <tr>\n",
       "      <th>0</th>\n",
       "      <td>M</td>\n",
       "      <td>24.0</td>\n",
       "      <td>180.00</td>\n",
       "      <td>80.00</td>\n",
       "      <td>N</td>\n",
       "      <td>1992</td>\n",
       "    </tr>\n",
       "    <tr>\n",
       "      <th>1</th>\n",
       "      <td>M</td>\n",
       "      <td>23.0</td>\n",
       "      <td>170.00</td>\n",
       "      <td>60.00</td>\n",
       "      <td>N</td>\n",
       "      <td>2012</td>\n",
       "    </tr>\n",
       "    <tr>\n",
       "      <th>2</th>\n",
       "      <td>M</td>\n",
       "      <td>24.0</td>\n",
       "      <td>178.86</td>\n",
       "      <td>75.74</td>\n",
       "      <td>N</td>\n",
       "      <td>1920</td>\n",
       "    </tr>\n",
       "    <tr>\n",
       "      <th>3</th>\n",
       "      <td>M</td>\n",
       "      <td>34.0</td>\n",
       "      <td>178.86</td>\n",
       "      <td>75.74</td>\n",
       "      <td>G</td>\n",
       "      <td>1900</td>\n",
       "    </tr>\n",
       "    <tr>\n",
       "      <th>4</th>\n",
       "      <td>F</td>\n",
       "      <td>21.0</td>\n",
       "      <td>185.00</td>\n",
       "      <td>82.00</td>\n",
       "      <td>N</td>\n",
       "      <td>1988</td>\n",
       "    </tr>\n",
       "    <tr>\n",
       "      <th>...</th>\n",
       "      <td>...</td>\n",
       "      <td>...</td>\n",
       "      <td>...</td>\n",
       "      <td>...</td>\n",
       "      <td>...</td>\n",
       "      <td>...</td>\n",
       "    </tr>\n",
       "    <tr>\n",
       "      <th>271111</th>\n",
       "      <td>M</td>\n",
       "      <td>29.0</td>\n",
       "      <td>179.00</td>\n",
       "      <td>89.00</td>\n",
       "      <td>N</td>\n",
       "      <td>1976</td>\n",
       "    </tr>\n",
       "    <tr>\n",
       "      <th>271112</th>\n",
       "      <td>M</td>\n",
       "      <td>27.0</td>\n",
       "      <td>176.00</td>\n",
       "      <td>59.00</td>\n",
       "      <td>N</td>\n",
       "      <td>2014</td>\n",
       "    </tr>\n",
       "    <tr>\n",
       "      <th>271113</th>\n",
       "      <td>M</td>\n",
       "      <td>27.0</td>\n",
       "      <td>176.00</td>\n",
       "      <td>59.00</td>\n",
       "      <td>N</td>\n",
       "      <td>2014</td>\n",
       "    </tr>\n",
       "    <tr>\n",
       "      <th>271114</th>\n",
       "      <td>M</td>\n",
       "      <td>30.0</td>\n",
       "      <td>185.00</td>\n",
       "      <td>96.00</td>\n",
       "      <td>N</td>\n",
       "      <td>1998</td>\n",
       "    </tr>\n",
       "    <tr>\n",
       "      <th>271115</th>\n",
       "      <td>M</td>\n",
       "      <td>34.0</td>\n",
       "      <td>185.00</td>\n",
       "      <td>96.00</td>\n",
       "      <td>N</td>\n",
       "      <td>2002</td>\n",
       "    </tr>\n",
       "  </tbody>\n",
       "</table>\n",
       "<p>271116 rows × 6 columns</p>\n",
       "</div>"
      ],
      "text/plain": [
       "       Sex   Age  Height  Weight Medal  Year\n",
       "0        M  24.0  180.00   80.00     N  1992\n",
       "1        M  23.0  170.00   60.00     N  2012\n",
       "2        M  24.0  178.86   75.74     N  1920\n",
       "3        M  34.0  178.86   75.74     G  1900\n",
       "4        F  21.0  185.00   82.00     N  1988\n",
       "...     ..   ...     ...     ...   ...   ...\n",
       "271111   M  29.0  179.00   89.00     N  1976\n",
       "271112   M  27.0  176.00   59.00     N  2014\n",
       "271113   M  27.0  176.00   59.00     N  2014\n",
       "271114   M  30.0  185.00   96.00     N  1998\n",
       "271115   M  34.0  185.00   96.00     N  2002\n",
       "\n",
       "[271116 rows x 6 columns]"
      ]
     },
     "execution_count": 330,
     "metadata": {},
     "output_type": "execute_result"
    }
   ],
   "source": [
    "f2 = athlete['Weight'].isna()\n",
    "athlete.loc[f2, \"Weight\"] = np.where(athlete.loc[f2, 'Sex'].eq('F'), 60.02, 75.74)\n",
    "athlete"
   ]
  },
  {
   "cell_type": "code",
   "execution_count": 331,
   "id": "012c2ea4",
   "metadata": {},
   "outputs": [
    {
     "data": {
      "text/plain": [
       "True"
      ]
     },
     "execution_count": 331,
     "metadata": {},
     "output_type": "execute_result"
    }
   ],
   "source": [
    "athlete['Age'].isnull().values.any()"
   ]
  },
  {
   "cell_type": "code",
   "execution_count": 332,
   "id": "c12ba0dd",
   "metadata": {},
   "outputs": [],
   "source": [
    "athlete2 = athlete.dropna(axis=0)"
   ]
  },
  {
   "cell_type": "code",
   "execution_count": 333,
   "id": "fbc88d39",
   "metadata": {},
   "outputs": [
    {
     "data": {
      "text/html": [
       "<div>\n",
       "<style scoped>\n",
       "    .dataframe tbody tr th:only-of-type {\n",
       "        vertical-align: middle;\n",
       "    }\n",
       "\n",
       "    .dataframe tbody tr th {\n",
       "        vertical-align: top;\n",
       "    }\n",
       "\n",
       "    .dataframe thead th {\n",
       "        text-align: right;\n",
       "    }\n",
       "</style>\n",
       "<table border=\"1\" class=\"dataframe\">\n",
       "  <thead>\n",
       "    <tr style=\"text-align: right;\">\n",
       "      <th></th>\n",
       "      <th>index</th>\n",
       "      <th>Sex</th>\n",
       "      <th>Age</th>\n",
       "      <th>Height</th>\n",
       "      <th>Weight</th>\n",
       "      <th>Medal</th>\n",
       "      <th>Year</th>\n",
       "    </tr>\n",
       "  </thead>\n",
       "  <tbody>\n",
       "    <tr>\n",
       "      <th>0</th>\n",
       "      <td>0</td>\n",
       "      <td>M</td>\n",
       "      <td>24.0</td>\n",
       "      <td>180.00</td>\n",
       "      <td>80.00</td>\n",
       "      <td>N</td>\n",
       "      <td>1992</td>\n",
       "    </tr>\n",
       "    <tr>\n",
       "      <th>1</th>\n",
       "      <td>1</td>\n",
       "      <td>M</td>\n",
       "      <td>23.0</td>\n",
       "      <td>170.00</td>\n",
       "      <td>60.00</td>\n",
       "      <td>N</td>\n",
       "      <td>2012</td>\n",
       "    </tr>\n",
       "    <tr>\n",
       "      <th>2</th>\n",
       "      <td>2</td>\n",
       "      <td>M</td>\n",
       "      <td>24.0</td>\n",
       "      <td>178.86</td>\n",
       "      <td>75.74</td>\n",
       "      <td>N</td>\n",
       "      <td>1920</td>\n",
       "    </tr>\n",
       "    <tr>\n",
       "      <th>3</th>\n",
       "      <td>3</td>\n",
       "      <td>M</td>\n",
       "      <td>34.0</td>\n",
       "      <td>178.86</td>\n",
       "      <td>75.74</td>\n",
       "      <td>G</td>\n",
       "      <td>1900</td>\n",
       "    </tr>\n",
       "    <tr>\n",
       "      <th>4</th>\n",
       "      <td>4</td>\n",
       "      <td>F</td>\n",
       "      <td>21.0</td>\n",
       "      <td>185.00</td>\n",
       "      <td>82.00</td>\n",
       "      <td>N</td>\n",
       "      <td>1988</td>\n",
       "    </tr>\n",
       "    <tr>\n",
       "      <th>...</th>\n",
       "      <td>...</td>\n",
       "      <td>...</td>\n",
       "      <td>...</td>\n",
       "      <td>...</td>\n",
       "      <td>...</td>\n",
       "      <td>...</td>\n",
       "      <td>...</td>\n",
       "    </tr>\n",
       "    <tr>\n",
       "      <th>261637</th>\n",
       "      <td>271111</td>\n",
       "      <td>M</td>\n",
       "      <td>29.0</td>\n",
       "      <td>179.00</td>\n",
       "      <td>89.00</td>\n",
       "      <td>N</td>\n",
       "      <td>1976</td>\n",
       "    </tr>\n",
       "    <tr>\n",
       "      <th>261638</th>\n",
       "      <td>271112</td>\n",
       "      <td>M</td>\n",
       "      <td>27.0</td>\n",
       "      <td>176.00</td>\n",
       "      <td>59.00</td>\n",
       "      <td>N</td>\n",
       "      <td>2014</td>\n",
       "    </tr>\n",
       "    <tr>\n",
       "      <th>261639</th>\n",
       "      <td>271113</td>\n",
       "      <td>M</td>\n",
       "      <td>27.0</td>\n",
       "      <td>176.00</td>\n",
       "      <td>59.00</td>\n",
       "      <td>N</td>\n",
       "      <td>2014</td>\n",
       "    </tr>\n",
       "    <tr>\n",
       "      <th>261640</th>\n",
       "      <td>271114</td>\n",
       "      <td>M</td>\n",
       "      <td>30.0</td>\n",
       "      <td>185.00</td>\n",
       "      <td>96.00</td>\n",
       "      <td>N</td>\n",
       "      <td>1998</td>\n",
       "    </tr>\n",
       "    <tr>\n",
       "      <th>261641</th>\n",
       "      <td>271115</td>\n",
       "      <td>M</td>\n",
       "      <td>34.0</td>\n",
       "      <td>185.00</td>\n",
       "      <td>96.00</td>\n",
       "      <td>N</td>\n",
       "      <td>2002</td>\n",
       "    </tr>\n",
       "  </tbody>\n",
       "</table>\n",
       "<p>261642 rows × 7 columns</p>\n",
       "</div>"
      ],
      "text/plain": [
       "         index Sex   Age  Height  Weight Medal  Year\n",
       "0            0   M  24.0  180.00   80.00     N  1992\n",
       "1            1   M  23.0  170.00   60.00     N  2012\n",
       "2            2   M  24.0  178.86   75.74     N  1920\n",
       "3            3   M  34.0  178.86   75.74     G  1900\n",
       "4            4   F  21.0  185.00   82.00     N  1988\n",
       "...        ...  ..   ...     ...     ...   ...   ...\n",
       "261637  271111   M  29.0  179.00   89.00     N  1976\n",
       "261638  271112   M  27.0  176.00   59.00     N  2014\n",
       "261639  271113   M  27.0  176.00   59.00     N  2014\n",
       "261640  271114   M  30.0  185.00   96.00     N  1998\n",
       "261641  271115   M  34.0  185.00   96.00     N  2002\n",
       "\n",
       "[261642 rows x 7 columns]"
      ]
     },
     "execution_count": 333,
     "metadata": {},
     "output_type": "execute_result"
    }
   ],
   "source": [
    "athlete2.reset_index()"
   ]
  },
  {
   "cell_type": "code",
   "execution_count": 334,
   "id": "dcf44143",
   "metadata": {},
   "outputs": [
    {
     "data": {
      "text/plain": [
       "False"
      ]
     },
     "execution_count": 334,
     "metadata": {},
     "output_type": "execute_result"
    }
   ],
   "source": [
    "athlete2['Age'].isnull().values.any()"
   ]
  },
  {
   "cell_type": "markdown",
   "id": "764a3ee4",
   "metadata": {},
   "source": [
    "ANALYZING AGE WITH ATHLETE2 DATAFRAME"
   ]
  },
  {
   "cell_type": "code",
   "execution_count": 335,
   "id": "5fbfc4a6",
   "metadata": {},
   "outputs": [
    {
     "data": {
      "text/plain": [
       "97.0"
      ]
     },
     "execution_count": 335,
     "metadata": {},
     "output_type": "execute_result"
    }
   ],
   "source": [
    "max_age = athlete2['Age'].max()\n",
    "max_age"
   ]
  },
  {
   "cell_type": "code",
   "execution_count": 336,
   "id": "3b2f0e9e",
   "metadata": {},
   "outputs": [
    {
     "data": {
      "text/plain": [
       "73.0"
      ]
     },
     "execution_count": 336,
     "metadata": {},
     "output_type": "execute_result"
    }
   ],
   "source": [
    "athlete2 = athlete2[athlete2.Age<74]\n",
    "max_age = athlete2['Age'].max()\n",
    "max_age"
   ]
  },
  {
   "cell_type": "code",
   "execution_count": 337,
   "id": "5af6a652",
   "metadata": {},
   "outputs": [
    {
     "data": {
      "text/plain": [
       "71.0"
      ]
     },
     "execution_count": 337,
     "metadata": {},
     "output_type": "execute_result"
    }
   ],
   "source": [
    "athlete2 = athlete2[athlete2.Year>1948]\n",
    "max_age2 = athlete2['Age'].max()\n",
    "max_age2"
   ]
  },
  {
   "cell_type": "code",
   "execution_count": 338,
   "id": "0c949f6a",
   "metadata": {},
   "outputs": [
    {
     "data": {
      "image/png": "[encoded data removed]",
      "text/plain": [
       "<Figure size 720x360 with 1 Axes>"
      ]
     },
     "metadata": {},
     "output_type": "display_data"
    }
   ],
   "source": [
    "sns.set(rc={\"figure.figsize\":(10,5)})\n",
    "sns.boxplot(x='Sex', y='Age', data=athlete2, palette='Greens');"
   ]
  },
  {
   "cell_type": "code",
   "execution_count": 339,
   "id": "82d7b0a6",
   "metadata": {},
   "outputs": [
    {
     "name": "stdout",
     "output_type": "stream",
     "text": [
      "Error in callback <function flush_figures at 0x7f5d1e70bdc0> (for post_execute):\n"
     ]
    },
    {
     "ename": "KeyboardInterrupt",
     "evalue": "",
     "output_type": "error",
     "traceback": [
      "\u001b[0;31m---------------------------------------------------------------------------\u001b[0m",
      "\u001b[0;31mKeyboardInterrupt\u001b[0m                         Traceback (most recent call last)",
      "\u001b[0;32m~/.local/lib/python3.8/site-packages/matplotlib_inline/backend_inline.py\u001b[0m in \u001b[0;36mflush_figures\u001b[0;34m()\u001b[0m\n\u001b[1;32m    119\u001b[0m         \u001b[0;31m# ignore the tracking, just draw and close all figures\u001b[0m\u001b[0;34m\u001b[0m\u001b[0;34m\u001b[0m\u001b[0;34m\u001b[0m\u001b[0m\n\u001b[1;32m    120\u001b[0m         \u001b[0;32mtry\u001b[0m\u001b[0;34m:\u001b[0m\u001b[0;34m\u001b[0m\u001b[0;34m\u001b[0m\u001b[0m\n\u001b[0;32m--> 121\u001b[0;31m             \u001b[0;32mreturn\u001b[0m \u001b[0mshow\u001b[0m\u001b[0;34m(\u001b[0m\u001b[0;32mTrue\u001b[0m\u001b[0;34m)\u001b[0m\u001b[0;34m\u001b[0m\u001b[0;34m\u001b[0m\u001b[0m\n\u001b[0m\u001b[1;32m    122\u001b[0m         \u001b[0;32mexcept\u001b[0m \u001b[0mException\u001b[0m \u001b[0;32mas\u001b[0m \u001b[0me\u001b[0m\u001b[0;34m:\u001b[0m\u001b[0;34m\u001b[0m\u001b[0;34m\u001b[0m\u001b[0m\n\u001b[1;32m    123\u001b[0m             \u001b[0;31m# safely show traceback if in IPython, else raise\u001b[0m\u001b[0;34m\u001b[0m\u001b[0;34m\u001b[0m\u001b[0;34m\u001b[0m\u001b[0m\n",
      "\u001b[0;32m~/.local/lib/python3.8/site-packages/matplotlib_inline/backend_inline.py\u001b[0m in \u001b[0;36mshow\u001b[0;34m(close, block)\u001b[0m\n\u001b[1;32m     39\u001b[0m     \u001b[0;32mtry\u001b[0m\u001b[0;34m:\u001b[0m\u001b[0;34m\u001b[0m\u001b[0;34m\u001b[0m\u001b[0m\n\u001b[1;32m     40\u001b[0m         \u001b[0;32mfor\u001b[0m \u001b[0mfigure_manager\u001b[0m \u001b[0;32min\u001b[0m \u001b[0mGcf\u001b[0m\u001b[0;34m.\u001b[0m\u001b[0mget_all_fig_managers\u001b[0m\u001b[0;34m(\u001b[0m\u001b[0;34m)\u001b[0m\u001b[0;34m:\u001b[0m\u001b[0;34m\u001b[0m\u001b[0;34m\u001b[0m\u001b[0m\n\u001b[0;32m---> 41\u001b[0;31m             display(\n\u001b[0m\u001b[1;32m     42\u001b[0m                 \u001b[0mfigure_manager\u001b[0m\u001b[0;34m.\u001b[0m\u001b[0mcanvas\u001b[0m\u001b[0;34m.\u001b[0m\u001b[0mfigure\u001b[0m\u001b[0;34m,\u001b[0m\u001b[0;34m\u001b[0m\u001b[0;34m\u001b[0m\u001b[0m\n\u001b[1;32m     43\u001b[0m                 \u001b[0mmetadata\u001b[0m\u001b[0;34m=\u001b[0m\u001b[0m_fetch_figure_metadata\u001b[0m\u001b[0;34m(\u001b[0m\u001b[0mfigure_manager\u001b[0m\u001b[0;34m.\u001b[0m\u001b[0mcanvas\u001b[0m\u001b[0;34m.\u001b[0m\u001b[0mfigure\u001b[0m\u001b[0;34m)\u001b[0m\u001b[0;34m\u001b[0m\u001b[0;34m\u001b[0m\u001b[0m\n",
      "\u001b[0;32m~/.local/lib/python3.8/site-packages/IPython/core/display.py\u001b[0m in \u001b[0;36mdisplay\u001b[0;34m(include, exclude, metadata, transient, display_id, *objs, **kwargs)\u001b[0m\n\u001b[1;32m    318\u001b[0m             \u001b[0mpublish_display_data\u001b[0m\u001b[0;34m(\u001b[0m\u001b[0mdata\u001b[0m\u001b[0;34m=\u001b[0m\u001b[0mobj\u001b[0m\u001b[0;34m,\u001b[0m \u001b[0mmetadata\u001b[0m\u001b[0;34m=\u001b[0m\u001b[0mmetadata\u001b[0m\u001b[0;34m,\u001b[0m \u001b[0;34m**\u001b[0m\u001b[0mkwargs\u001b[0m\u001b[0;34m)\u001b[0m\u001b[0;34m\u001b[0m\u001b[0;34m\u001b[0m\u001b[0m\n\u001b[1;32m    319\u001b[0m         \u001b[0;32melse\u001b[0m\u001b[0;34m:\u001b[0m\u001b[0;34m\u001b[0m\u001b[0;34m\u001b[0m\u001b[0m\n\u001b[0;32m--> 320\u001b[0;31m             \u001b[0mformat_dict\u001b[0m\u001b[0;34m,\u001b[0m \u001b[0mmd_dict\u001b[0m \u001b[0;34m=\u001b[0m \u001b[0mformat\u001b[0m\u001b[0;34m(\u001b[0m\u001b[0mobj\u001b[0m\u001b[0;34m,\u001b[0m \u001b[0minclude\u001b[0m\u001b[0;34m=\u001b[0m\u001b[0minclude\u001b[0m\u001b[0;34m,\u001b[0m \u001b[0mexclude\u001b[0m\u001b[0;34m=\u001b[0m\u001b[0mexclude\u001b[0m\u001b[0;34m)\u001b[0m\u001b[0;34m\u001b[0m\u001b[0;34m\u001b[0m\u001b[0m\n\u001b[0m\u001b[1;32m    321\u001b[0m             \u001b[0;32mif\u001b[0m \u001b[0;32mnot\u001b[0m \u001b[0mformat_dict\u001b[0m\u001b[0;34m:\u001b[0m\u001b[0;34m\u001b[0m\u001b[0;34m\u001b[0m\u001b[0m\n\u001b[1;32m    322\u001b[0m                 \u001b[0;31m# nothing to display (e.g. _ipython_display_ took over)\u001b[0m\u001b[0;34m\u001b[0m\u001b[0;34m\u001b[0m\u001b[0;34m\u001b[0m\u001b[0m\n",
      "\u001b[0;32m~/.local/lib/python3.8/site-packages/IPython/core/formatters.py\u001b[0m in \u001b[0;36mformat\u001b[0;34m(self, obj, include, exclude)\u001b[0m\n\u001b[1;32m    178\u001b[0m             \u001b[0mmd\u001b[0m \u001b[0;34m=\u001b[0m \u001b[0;32mNone\u001b[0m\u001b[0;34m\u001b[0m\u001b[0;34m\u001b[0m\u001b[0m\n\u001b[1;32m    179\u001b[0m             \u001b[0;32mtry\u001b[0m\u001b[0;34m:\u001b[0m\u001b[0;34m\u001b[0m\u001b[0;34m\u001b[0m\u001b[0m\n\u001b[0;32m--> 180\u001b[0;31m                 \u001b[0mdata\u001b[0m \u001b[0;34m=\u001b[0m \u001b[0mformatter\u001b[0m\u001b[0;34m(\u001b[0m\u001b[0mobj\u001b[0m\u001b[0;34m)\u001b[0m\u001b[0;34m\u001b[0m\u001b[0;34m\u001b[0m\u001b[0m\n\u001b[0m\u001b[1;32m    181\u001b[0m             \u001b[0;32mexcept\u001b[0m\u001b[0;34m:\u001b[0m\u001b[0;34m\u001b[0m\u001b[0;34m\u001b[0m\u001b[0m\n\u001b[1;32m    182\u001b[0m                 \u001b[0;31m# FIXME: log the exception\u001b[0m\u001b[0;34m\u001b[0m\u001b[0;34m\u001b[0m\u001b[0;34m\u001b[0m\u001b[0m\n",
      "\u001b[0;32m~/.local/lib/python3.8/site-packages/decorator.py\u001b[0m in \u001b[0;36mfun\u001b[0;34m(*args, **kw)\u001b[0m\n\u001b[1;32m    230\u001b[0m             \u001b[0;32mif\u001b[0m \u001b[0;32mnot\u001b[0m \u001b[0mkwsyntax\u001b[0m\u001b[0;34m:\u001b[0m\u001b[0;34m\u001b[0m\u001b[0;34m\u001b[0m\u001b[0m\n\u001b[1;32m    231\u001b[0m                 \u001b[0margs\u001b[0m\u001b[0;34m,\u001b[0m \u001b[0mkw\u001b[0m \u001b[0;34m=\u001b[0m \u001b[0mfix\u001b[0m\u001b[0;34m(\u001b[0m\u001b[0margs\u001b[0m\u001b[0;34m,\u001b[0m \u001b[0mkw\u001b[0m\u001b[0;34m,\u001b[0m \u001b[0msig\u001b[0m\u001b[0;34m)\u001b[0m\u001b[0;34m\u001b[0m\u001b[0;34m\u001b[0m\u001b[0m\n\u001b[0;32m--> 232\u001b[0;31m             \u001b[0;32mreturn\u001b[0m \u001b[0mcaller\u001b[0m\u001b[0;34m(\u001b[0m\u001b[0mfunc\u001b[0m\u001b[0;34m,\u001b[0m \u001b[0;34m*\u001b[0m\u001b[0;34m(\u001b[0m\u001b[0mextras\u001b[0m \u001b[0;34m+\u001b[0m \u001b[0margs\u001b[0m\u001b[0;34m)\u001b[0m\u001b[0;34m,\u001b[0m \u001b[0;34m**\u001b[0m\u001b[0mkw\u001b[0m\u001b[0;34m)\u001b[0m\u001b[0;34m\u001b[0m\u001b[0;34m\u001b[0m\u001b[0m\n\u001b[0m\u001b[1;32m    233\u001b[0m     \u001b[0mfun\u001b[0m\u001b[0;34m.\u001b[0m\u001b[0m__name__\u001b[0m \u001b[0;34m=\u001b[0m \u001b[0mfunc\u001b[0m\u001b[0;34m.\u001b[0m\u001b[0m__name__\u001b[0m\u001b[0;34m\u001b[0m\u001b[0;34m\u001b[0m\u001b[0m\n\u001b[1;32m    234\u001b[0m     \u001b[0mfun\u001b[0m\u001b[0;34m.\u001b[0m\u001b[0m__doc__\u001b[0m \u001b[0;34m=\u001b[0m \u001b[0mfunc\u001b[0m\u001b[0;34m.\u001b[0m\u001b[0m__doc__\u001b[0m\u001b[0;34m\u001b[0m\u001b[0;34m\u001b[0m\u001b[0m\n",
      "\u001b[0;32m~/.local/lib/python3.8/site-packages/IPython/core/formatters.py\u001b[0m in \u001b[0;36mcatch_format_error\u001b[0;34m(method, self, *args, **kwargs)\u001b[0m\n\u001b[1;32m    222\u001b[0m     \u001b[0;34m\"\"\"show traceback on failed format call\"\"\"\u001b[0m\u001b[0;34m\u001b[0m\u001b[0;34m\u001b[0m\u001b[0m\n\u001b[1;32m    223\u001b[0m     \u001b[0;32mtry\u001b[0m\u001b[0;34m:\u001b[0m\u001b[0;34m\u001b[0m\u001b[0;34m\u001b[0m\u001b[0m\n\u001b[0;32m--> 224\u001b[0;31m         \u001b[0mr\u001b[0m \u001b[0;34m=\u001b[0m \u001b[0mmethod\u001b[0m\u001b[0;34m(\u001b[0m\u001b[0mself\u001b[0m\u001b[0;34m,\u001b[0m \u001b[0;34m*\u001b[0m\u001b[0margs\u001b[0m\u001b[0;34m,\u001b[0m \u001b[0;34m**\u001b[0m\u001b[0mkwargs\u001b[0m\u001b[0;34m)\u001b[0m\u001b[0;34m\u001b[0m\u001b[0;34m\u001b[0m\u001b[0m\n\u001b[0m\u001b[1;32m    225\u001b[0m     \u001b[0;32mexcept\u001b[0m \u001b[0mNotImplementedError\u001b[0m\u001b[0;34m:\u001b[0m\u001b[0;34m\u001b[0m\u001b[0;34m\u001b[0m\u001b[0m\n\u001b[1;32m    226\u001b[0m         \u001b[0;31m# don't warn on NotImplementedErrors\u001b[0m\u001b[0;34m\u001b[0m\u001b[0;34m\u001b[0m\u001b[0;34m\u001b[0m\u001b[0m\n",
      "\u001b[0;32m~/.local/lib/python3.8/site-packages/IPython/core/formatters.py\u001b[0m in \u001b[0;36m__call__\u001b[0;34m(self, obj)\u001b[0m\n\u001b[1;32m    339\u001b[0m                 \u001b[0;32mpass\u001b[0m\u001b[0;34m\u001b[0m\u001b[0;34m\u001b[0m\u001b[0m\n\u001b[1;32m    340\u001b[0m             \u001b[0;32melse\u001b[0m\u001b[0;34m:\u001b[0m\u001b[0;34m\u001b[0m\u001b[0;34m\u001b[0m\u001b[0m\n\u001b[0;32m--> 341\u001b[0;31m                 \u001b[0;32mreturn\u001b[0m \u001b[0mprinter\u001b[0m\u001b[0;34m(\u001b[0m\u001b[0mobj\u001b[0m\u001b[0;34m)\u001b[0m\u001b[0;34m\u001b[0m\u001b[0;34m\u001b[0m\u001b[0m\n\u001b[0m\u001b[1;32m    342\u001b[0m             \u001b[0;31m# Finally look for special method names\u001b[0m\u001b[0;34m\u001b[0m\u001b[0;34m\u001b[0m\u001b[0;34m\u001b[0m\u001b[0m\n\u001b[1;32m    343\u001b[0m             \u001b[0mmethod\u001b[0m \u001b[0;34m=\u001b[0m \u001b[0mget_real_method\u001b[0m\u001b[0;34m(\u001b[0m\u001b[0mobj\u001b[0m\u001b[0;34m,\u001b[0m \u001b[0mself\u001b[0m\u001b[0;34m.\u001b[0m\u001b[0mprint_method\u001b[0m\u001b[0;34m)\u001b[0m\u001b[0;34m\u001b[0m\u001b[0;34m\u001b[0m\u001b[0m\n",
      "\u001b[0;32m~/.local/lib/python3.8/site-packages/IPython/core/pylabtools.py\u001b[0m in \u001b[0;36mprint_figure\u001b[0;34m(fig, fmt, bbox_inches, base64, **kwargs)\u001b[0m\n\u001b[1;32m    149\u001b[0m         \u001b[0mFigureCanvasBase\u001b[0m\u001b[0;34m(\u001b[0m\u001b[0mfig\u001b[0m\u001b[0;34m)\u001b[0m\u001b[0;34m\u001b[0m\u001b[0;34m\u001b[0m\u001b[0m\n\u001b[1;32m    150\u001b[0m \u001b[0;34m\u001b[0m\u001b[0m\n\u001b[0;32m--> 151\u001b[0;31m     \u001b[0mfig\u001b[0m\u001b[0;34m.\u001b[0m\u001b[0mcanvas\u001b[0m\u001b[0;34m.\u001b[0m\u001b[0mprint_figure\u001b[0m\u001b[0;34m(\u001b[0m\u001b[0mbytes_io\u001b[0m\u001b[0;34m,\u001b[0m \u001b[0;34m**\u001b[0m\u001b[0mkw\u001b[0m\u001b[0;34m)\u001b[0m\u001b[0;34m\u001b[0m\u001b[0;34m\u001b[0m\u001b[0m\n\u001b[0m\u001b[1;32m    152\u001b[0m     \u001b[0mdata\u001b[0m \u001b[0;34m=\u001b[0m \u001b[0mbytes_io\u001b[0m\u001b[0;34m.\u001b[0m\u001b[0mgetvalue\u001b[0m\u001b[0;34m(\u001b[0m\u001b[0;34m)\u001b[0m\u001b[0;34m\u001b[0m\u001b[0;34m\u001b[0m\u001b[0m\n\u001b[1;32m    153\u001b[0m     \u001b[0;32mif\u001b[0m \u001b[0mfmt\u001b[0m \u001b[0;34m==\u001b[0m \u001b[0;34m'svg'\u001b[0m\u001b[0;34m:\u001b[0m\u001b[0;34m\u001b[0m\u001b[0;34m\u001b[0m\u001b[0m\n",
      "\u001b[0;32m~/.local/lib/python3.8/site-packages/matplotlib/backend_bases.py\u001b[0m in \u001b[0;36mprint_figure\u001b[0;34m(self, filename, dpi, facecolor, edgecolor, orientation, format, bbox_inches, pad_inches, bbox_extra_artists, backend, **kwargs)\u001b[0m\n\u001b[1;32m   2253\u001b[0m                 \u001b[0;31m# force the figure dpi to 72), so we need to set it again here.\u001b[0m\u001b[0;34m\u001b[0m\u001b[0;34m\u001b[0m\u001b[0;34m\u001b[0m\u001b[0m\n\u001b[1;32m   2254\u001b[0m                 \u001b[0;32mwith\u001b[0m \u001b[0mcbook\u001b[0m\u001b[0;34m.\u001b[0m\u001b[0m_setattr_cm\u001b[0m\u001b[0;34m(\u001b[0m\u001b[0mself\u001b[0m\u001b[0;34m.\u001b[0m\u001b[0mfigure\u001b[0m\u001b[0;34m,\u001b[0m \u001b[0mdpi\u001b[0m\u001b[0;34m=\u001b[0m\u001b[0mdpi\u001b[0m\u001b[0;34m)\u001b[0m\u001b[0;34m:\u001b[0m\u001b[0;34m\u001b[0m\u001b[0;34m\u001b[0m\u001b[0m\n\u001b[0;32m-> 2255\u001b[0;31m                     result = print_method(\n\u001b[0m\u001b[1;32m   2256\u001b[0m                         \u001b[0mfilename\u001b[0m\u001b[0;34m,\u001b[0m\u001b[0;34m\u001b[0m\u001b[0;34m\u001b[0m\u001b[0m\n\u001b[1;32m   2257\u001b[0m                         \u001b[0mfacecolor\u001b[0m\u001b[0;34m=\u001b[0m\u001b[0mfacecolor\u001b[0m\u001b[0;34m,\u001b[0m\u001b[0;34m\u001b[0m\u001b[0;34m\u001b[0m\u001b[0m\n",
      "\u001b[0;32m~/.local/lib/python3.8/site-packages/matplotlib/backend_bases.py\u001b[0m in \u001b[0;36mwrapper\u001b[0;34m(*args, **kwargs)\u001b[0m\n\u001b[1;32m   1667\u001b[0m             \u001b[0mkwargs\u001b[0m\u001b[0;34m.\u001b[0m\u001b[0mpop\u001b[0m\u001b[0;34m(\u001b[0m\u001b[0marg\u001b[0m\u001b[0;34m)\u001b[0m\u001b[0;34m\u001b[0m\u001b[0;34m\u001b[0m\u001b[0m\n\u001b[1;32m   1668\u001b[0m \u001b[0;34m\u001b[0m\u001b[0m\n\u001b[0;32m-> 1669\u001b[0;31m         \u001b[0;32mreturn\u001b[0m \u001b[0mfunc\u001b[0m\u001b[0;34m(\u001b[0m\u001b[0;34m*\u001b[0m\u001b[0margs\u001b[0m\u001b[0;34m,\u001b[0m \u001b[0;34m**\u001b[0m\u001b[0mkwargs\u001b[0m\u001b[0;34m)\u001b[0m\u001b[0;34m\u001b[0m\u001b[0;34m\u001b[0m\u001b[0m\n\u001b[0m\u001b[1;32m   1670\u001b[0m \u001b[0;34m\u001b[0m\u001b[0m\n\u001b[1;32m   1671\u001b[0m     \u001b[0;32mreturn\u001b[0m \u001b[0mwrapper\u001b[0m\u001b[0;34m\u001b[0m\u001b[0;34m\u001b[0m\u001b[0m\n",
      "\u001b[0;32m~/.local/lib/python3.8/site-packages/matplotlib/backends/backend_agg.py\u001b[0m in \u001b[0;36mprint_png\u001b[0;34m(self, filename_or_obj, metadata, pil_kwargs, *args)\u001b[0m\n\u001b[1;32m    506\u001b[0m             \u001b[0;34m*\u001b[0m\u001b[0mmetadata\u001b[0m\u001b[0;34m*\u001b[0m\u001b[0;34m,\u001b[0m \u001b[0mincluding\u001b[0m \u001b[0mthe\u001b[0m \u001b[0mdefault\u001b[0m \u001b[0;34m'Software'\u001b[0m \u001b[0mkey\u001b[0m\u001b[0;34m.\u001b[0m\u001b[0;34m\u001b[0m\u001b[0;34m\u001b[0m\u001b[0m\n\u001b[1;32m    507\u001b[0m         \"\"\"\n\u001b[0;32m--> 508\u001b[0;31m         \u001b[0mFigureCanvasAgg\u001b[0m\u001b[0;34m.\u001b[0m\u001b[0mdraw\u001b[0m\u001b[0;34m(\u001b[0m\u001b[0mself\u001b[0m\u001b[0;34m)\u001b[0m\u001b[0;34m\u001b[0m\u001b[0;34m\u001b[0m\u001b[0m\n\u001b[0m\u001b[1;32m    509\u001b[0m         mpl.image.imsave(\n\u001b[1;32m    510\u001b[0m             \u001b[0mfilename_or_obj\u001b[0m\u001b[0;34m,\u001b[0m \u001b[0mself\u001b[0m\u001b[0;34m.\u001b[0m\u001b[0mbuffer_rgba\u001b[0m\u001b[0;34m(\u001b[0m\u001b[0;34m)\u001b[0m\u001b[0;34m,\u001b[0m \u001b[0mformat\u001b[0m\u001b[0;34m=\u001b[0m\u001b[0;34m\"png\"\u001b[0m\u001b[0;34m,\u001b[0m \u001b[0morigin\u001b[0m\u001b[0;34m=\u001b[0m\u001b[0;34m\"upper\"\u001b[0m\u001b[0;34m,\u001b[0m\u001b[0;34m\u001b[0m\u001b[0;34m\u001b[0m\u001b[0m\n",
      "\u001b[0;32m~/.local/lib/python3.8/site-packages/matplotlib/backends/backend_agg.py\u001b[0m in \u001b[0;36mdraw\u001b[0;34m(self)\u001b[0m\n\u001b[1;32m    404\u001b[0m              (self.toolbar._wait_cursor_for_draw_cm() if self.toolbar\n\u001b[1;32m    405\u001b[0m               else nullcontext()):\n\u001b[0;32m--> 406\u001b[0;31m             \u001b[0mself\u001b[0m\u001b[0;34m.\u001b[0m\u001b[0mfigure\u001b[0m\u001b[0;34m.\u001b[0m\u001b[0mdraw\u001b[0m\u001b[0;34m(\u001b[0m\u001b[0mself\u001b[0m\u001b[0;34m.\u001b[0m\u001b[0mrenderer\u001b[0m\u001b[0;34m)\u001b[0m\u001b[0;34m\u001b[0m\u001b[0;34m\u001b[0m\u001b[0m\n\u001b[0m\u001b[1;32m    407\u001b[0m             \u001b[0;31m# A GUI class may be need to update a window using this draw, so\u001b[0m\u001b[0;34m\u001b[0m\u001b[0;34m\u001b[0m\u001b[0;34m\u001b[0m\u001b[0m\n\u001b[1;32m    408\u001b[0m             \u001b[0;31m# don't forget to call the superclass.\u001b[0m\u001b[0;34m\u001b[0m\u001b[0;34m\u001b[0m\u001b[0;34m\u001b[0m\u001b[0m\n",
      "\u001b[0;32m~/.local/lib/python3.8/site-packages/matplotlib/artist.py\u001b[0m in \u001b[0;36mdraw_wrapper\u001b[0;34m(artist, renderer, *args, **kwargs)\u001b[0m\n\u001b[1;32m     72\u001b[0m     \u001b[0;34m@\u001b[0m\u001b[0mwraps\u001b[0m\u001b[0;34m(\u001b[0m\u001b[0mdraw\u001b[0m\u001b[0;34m)\u001b[0m\u001b[0;34m\u001b[0m\u001b[0;34m\u001b[0m\u001b[0m\n\u001b[1;32m     73\u001b[0m     \u001b[0;32mdef\u001b[0m \u001b[0mdraw_wrapper\u001b[0m\u001b[0;34m(\u001b[0m\u001b[0martist\u001b[0m\u001b[0;34m,\u001b[0m \u001b[0mrenderer\u001b[0m\u001b[0;34m,\u001b[0m \u001b[0;34m*\u001b[0m\u001b[0margs\u001b[0m\u001b[0;34m,\u001b[0m \u001b[0;34m**\u001b[0m\u001b[0mkwargs\u001b[0m\u001b[0;34m)\u001b[0m\u001b[0;34m:\u001b[0m\u001b[0;34m\u001b[0m\u001b[0;34m\u001b[0m\u001b[0m\n\u001b[0;32m---> 74\u001b[0;31m         \u001b[0mresult\u001b[0m \u001b[0;34m=\u001b[0m \u001b[0mdraw\u001b[0m\u001b[0;34m(\u001b[0m\u001b[0martist\u001b[0m\u001b[0;34m,\u001b[0m \u001b[0mrenderer\u001b[0m\u001b[0;34m,\u001b[0m \u001b[0;34m*\u001b[0m\u001b[0margs\u001b[0m\u001b[0;34m,\u001b[0m \u001b[0;34m**\u001b[0m\u001b[0mkwargs\u001b[0m\u001b[0;34m)\u001b[0m\u001b[0;34m\u001b[0m\u001b[0;34m\u001b[0m\u001b[0m\n\u001b[0m\u001b[1;32m     75\u001b[0m         \u001b[0;32mif\u001b[0m \u001b[0mrenderer\u001b[0m\u001b[0;34m.\u001b[0m\u001b[0m_rasterizing\u001b[0m\u001b[0;34m:\u001b[0m\u001b[0;34m\u001b[0m\u001b[0;34m\u001b[0m\u001b[0m\n\u001b[1;32m     76\u001b[0m             \u001b[0mrenderer\u001b[0m\u001b[0;34m.\u001b[0m\u001b[0mstop_rasterizing\u001b[0m\u001b[0;34m(\u001b[0m\u001b[0;34m)\u001b[0m\u001b[0;34m\u001b[0m\u001b[0;34m\u001b[0m\u001b[0m\n",
      "\u001b[0;32m~/.local/lib/python3.8/site-packages/matplotlib/artist.py\u001b[0m in \u001b[0;36mdraw_wrapper\u001b[0;34m(artist, renderer, *args, **kwargs)\u001b[0m\n\u001b[1;32m     49\u001b[0m                 \u001b[0mrenderer\u001b[0m\u001b[0;34m.\u001b[0m\u001b[0mstart_filter\u001b[0m\u001b[0;34m(\u001b[0m\u001b[0;34m)\u001b[0m\u001b[0;34m\u001b[0m\u001b[0;34m\u001b[0m\u001b[0m\n\u001b[1;32m     50\u001b[0m \u001b[0;34m\u001b[0m\u001b[0m\n\u001b[0;32m---> 51\u001b[0;31m             \u001b[0;32mreturn\u001b[0m \u001b[0mdraw\u001b[0m\u001b[0;34m(\u001b[0m\u001b[0martist\u001b[0m\u001b[0;34m,\u001b[0m \u001b[0mrenderer\u001b[0m\u001b[0;34m,\u001b[0m \u001b[0;34m*\u001b[0m\u001b[0margs\u001b[0m\u001b[0;34m,\u001b[0m \u001b[0;34m**\u001b[0m\u001b[0mkwargs\u001b[0m\u001b[0;34m)\u001b[0m\u001b[0;34m\u001b[0m\u001b[0;34m\u001b[0m\u001b[0m\n\u001b[0m\u001b[1;32m     52\u001b[0m         \u001b[0;32mfinally\u001b[0m\u001b[0;34m:\u001b[0m\u001b[0;34m\u001b[0m\u001b[0;34m\u001b[0m\u001b[0m\n\u001b[1;32m     53\u001b[0m             \u001b[0;32mif\u001b[0m \u001b[0martist\u001b[0m\u001b[0;34m.\u001b[0m\u001b[0mget_agg_filter\u001b[0m\u001b[0;34m(\u001b[0m\u001b[0;34m)\u001b[0m \u001b[0;32mis\u001b[0m \u001b[0;32mnot\u001b[0m \u001b[0;32mNone\u001b[0m\u001b[0;34m:\u001b[0m\u001b[0;34m\u001b[0m\u001b[0;34m\u001b[0m\u001b[0m\n",
      "\u001b[0;32m~/.local/lib/python3.8/site-packages/matplotlib/figure.py\u001b[0m in \u001b[0;36mdraw\u001b[0;34m(self, renderer)\u001b[0m\n\u001b[1;32m   2788\u001b[0m \u001b[0;34m\u001b[0m\u001b[0m\n\u001b[1;32m   2789\u001b[0m             \u001b[0mself\u001b[0m\u001b[0;34m.\u001b[0m\u001b[0mpatch\u001b[0m\u001b[0;34m.\u001b[0m\u001b[0mdraw\u001b[0m\u001b[0;34m(\u001b[0m\u001b[0mrenderer\u001b[0m\u001b[0;34m)\u001b[0m\u001b[0;34m\u001b[0m\u001b[0;34m\u001b[0m\u001b[0m\n\u001b[0;32m-> 2790\u001b[0;31m             mimage._draw_list_compositing_images(\n\u001b[0m\u001b[1;32m   2791\u001b[0m                 renderer, self, artists, self.suppressComposite)\n\u001b[1;32m   2792\u001b[0m \u001b[0;34m\u001b[0m\u001b[0m\n",
      "\u001b[0;32m~/.local/lib/python3.8/site-packages/matplotlib/image.py\u001b[0m in \u001b[0;36m_draw_list_compositing_images\u001b[0;34m(renderer, parent, artists, suppress_composite)\u001b[0m\n\u001b[1;32m    130\u001b[0m     \u001b[0;32mif\u001b[0m \u001b[0mnot_composite\u001b[0m \u001b[0;32mor\u001b[0m \u001b[0;32mnot\u001b[0m \u001b[0mhas_images\u001b[0m\u001b[0;34m:\u001b[0m\u001b[0;34m\u001b[0m\u001b[0;34m\u001b[0m\u001b[0m\n\u001b[1;32m    131\u001b[0m         \u001b[0;32mfor\u001b[0m \u001b[0ma\u001b[0m \u001b[0;32min\u001b[0m \u001b[0martists\u001b[0m\u001b[0;34m:\u001b[0m\u001b[0;34m\u001b[0m\u001b[0;34m\u001b[0m\u001b[0m\n\u001b[0;32m--> 132\u001b[0;31m             \u001b[0ma\u001b[0m\u001b[0;34m.\u001b[0m\u001b[0mdraw\u001b[0m\u001b[0;34m(\u001b[0m\u001b[0mrenderer\u001b[0m\u001b[0;34m)\u001b[0m\u001b[0;34m\u001b[0m\u001b[0;34m\u001b[0m\u001b[0m\n\u001b[0m\u001b[1;32m    133\u001b[0m     \u001b[0;32melse\u001b[0m\u001b[0;34m:\u001b[0m\u001b[0;34m\u001b[0m\u001b[0;34m\u001b[0m\u001b[0m\n\u001b[1;32m    134\u001b[0m         \u001b[0;31m# Composite any adjacent images together\u001b[0m\u001b[0;34m\u001b[0m\u001b[0;34m\u001b[0m\u001b[0;34m\u001b[0m\u001b[0m\n",
      "\u001b[0;32m~/.local/lib/python3.8/site-packages/matplotlib/artist.py\u001b[0m in \u001b[0;36mdraw_wrapper\u001b[0;34m(artist, renderer, *args, **kwargs)\u001b[0m\n\u001b[1;32m     49\u001b[0m                 \u001b[0mrenderer\u001b[0m\u001b[0;34m.\u001b[0m\u001b[0mstart_filter\u001b[0m\u001b[0;34m(\u001b[0m\u001b[0;34m)\u001b[0m\u001b[0;34m\u001b[0m\u001b[0;34m\u001b[0m\u001b[0m\n\u001b[1;32m     50\u001b[0m \u001b[0;34m\u001b[0m\u001b[0m\n\u001b[0;32m---> 51\u001b[0;31m             \u001b[0;32mreturn\u001b[0m \u001b[0mdraw\u001b[0m\u001b[0;34m(\u001b[0m\u001b[0martist\u001b[0m\u001b[0;34m,\u001b[0m \u001b[0mrenderer\u001b[0m\u001b[0;34m,\u001b[0m \u001b[0;34m*\u001b[0m\u001b[0margs\u001b[0m\u001b[0;34m,\u001b[0m \u001b[0;34m**\u001b[0m\u001b[0mkwargs\u001b[0m\u001b[0;34m)\u001b[0m\u001b[0;34m\u001b[0m\u001b[0;34m\u001b[0m\u001b[0m\n\u001b[0m\u001b[1;32m     52\u001b[0m         \u001b[0;32mfinally\u001b[0m\u001b[0;34m:\u001b[0m\u001b[0;34m\u001b[0m\u001b[0;34m\u001b[0m\u001b[0m\n\u001b[1;32m     53\u001b[0m             \u001b[0;32mif\u001b[0m \u001b[0martist\u001b[0m\u001b[0;34m.\u001b[0m\u001b[0mget_agg_filter\u001b[0m\u001b[0;34m(\u001b[0m\u001b[0;34m)\u001b[0m \u001b[0;32mis\u001b[0m \u001b[0;32mnot\u001b[0m \u001b[0;32mNone\u001b[0m\u001b[0;34m:\u001b[0m\u001b[0;34m\u001b[0m\u001b[0;34m\u001b[0m\u001b[0m\n",
      "\u001b[0;32m~/.local/lib/python3.8/site-packages/matplotlib/_api/deprecation.py\u001b[0m in \u001b[0;36mwrapper\u001b[0;34m(*inner_args, **inner_kwargs)\u001b[0m\n\u001b[1;32m    429\u001b[0m                          \u001b[0;32melse\u001b[0m \u001b[0mdeprecation_addendum\u001b[0m\u001b[0;34m,\u001b[0m\u001b[0;34m\u001b[0m\u001b[0;34m\u001b[0m\u001b[0m\n\u001b[1;32m    430\u001b[0m                 **kwargs)\n\u001b[0;32m--> 431\u001b[0;31m         \u001b[0;32mreturn\u001b[0m \u001b[0mfunc\u001b[0m\u001b[0;34m(\u001b[0m\u001b[0;34m*\u001b[0m\u001b[0minner_args\u001b[0m\u001b[0;34m,\u001b[0m \u001b[0;34m**\u001b[0m\u001b[0minner_kwargs\u001b[0m\u001b[0;34m)\u001b[0m\u001b[0;34m\u001b[0m\u001b[0;34m\u001b[0m\u001b[0m\n\u001b[0m\u001b[1;32m    432\u001b[0m \u001b[0;34m\u001b[0m\u001b[0m\n\u001b[1;32m    433\u001b[0m     \u001b[0;32mreturn\u001b[0m \u001b[0mwrapper\u001b[0m\u001b[0;34m\u001b[0m\u001b[0;34m\u001b[0m\u001b[0m\n",
      "\u001b[0;32m~/.local/lib/python3.8/site-packages/matplotlib/axes/_base.py\u001b[0m in \u001b[0;36mdraw\u001b[0;34m(self, renderer, inframe)\u001b[0m\n\u001b[1;32m   2919\u001b[0m             \u001b[0mrenderer\u001b[0m\u001b[0;34m.\u001b[0m\u001b[0mstop_rasterizing\u001b[0m\u001b[0;34m(\u001b[0m\u001b[0;34m)\u001b[0m\u001b[0;34m\u001b[0m\u001b[0;34m\u001b[0m\u001b[0m\n\u001b[1;32m   2920\u001b[0m \u001b[0;34m\u001b[0m\u001b[0m\n\u001b[0;32m-> 2921\u001b[0;31m         \u001b[0mmimage\u001b[0m\u001b[0;34m.\u001b[0m\u001b[0m_draw_list_compositing_images\u001b[0m\u001b[0;34m(\u001b[0m\u001b[0mrenderer\u001b[0m\u001b[0;34m,\u001b[0m \u001b[0mself\u001b[0m\u001b[0;34m,\u001b[0m \u001b[0martists\u001b[0m\u001b[0;34m)\u001b[0m\u001b[0;34m\u001b[0m\u001b[0;34m\u001b[0m\u001b[0m\n\u001b[0m\u001b[1;32m   2922\u001b[0m \u001b[0;34m\u001b[0m\u001b[0m\n\u001b[1;32m   2923\u001b[0m         \u001b[0mrenderer\u001b[0m\u001b[0;34m.\u001b[0m\u001b[0mclose_group\u001b[0m\u001b[0;34m(\u001b[0m\u001b[0;34m'axes'\u001b[0m\u001b[0;34m)\u001b[0m\u001b[0;34m\u001b[0m\u001b[0;34m\u001b[0m\u001b[0m\n",
      "\u001b[0;32m~/.local/lib/python3.8/site-packages/matplotlib/image.py\u001b[0m in \u001b[0;36m_draw_list_compositing_images\u001b[0;34m(renderer, parent, artists, suppress_composite)\u001b[0m\n\u001b[1;32m    130\u001b[0m     \u001b[0;32mif\u001b[0m \u001b[0mnot_composite\u001b[0m \u001b[0;32mor\u001b[0m \u001b[0;32mnot\u001b[0m \u001b[0mhas_images\u001b[0m\u001b[0;34m:\u001b[0m\u001b[0;34m\u001b[0m\u001b[0;34m\u001b[0m\u001b[0m\n\u001b[1;32m    131\u001b[0m         \u001b[0;32mfor\u001b[0m \u001b[0ma\u001b[0m \u001b[0;32min\u001b[0m \u001b[0martists\u001b[0m\u001b[0;34m:\u001b[0m\u001b[0;34m\u001b[0m\u001b[0;34m\u001b[0m\u001b[0m\n\u001b[0;32m--> 132\u001b[0;31m             \u001b[0ma\u001b[0m\u001b[0;34m.\u001b[0m\u001b[0mdraw\u001b[0m\u001b[0;34m(\u001b[0m\u001b[0mrenderer\u001b[0m\u001b[0;34m)\u001b[0m\u001b[0;34m\u001b[0m\u001b[0;34m\u001b[0m\u001b[0m\n\u001b[0m\u001b[1;32m    133\u001b[0m     \u001b[0;32melse\u001b[0m\u001b[0;34m:\u001b[0m\u001b[0;34m\u001b[0m\u001b[0;34m\u001b[0m\u001b[0m\n\u001b[1;32m    134\u001b[0m         \u001b[0;31m# Composite any adjacent images together\u001b[0m\u001b[0;34m\u001b[0m\u001b[0;34m\u001b[0m\u001b[0;34m\u001b[0m\u001b[0m\n",
      "\u001b[0;32m~/.local/lib/python3.8/site-packages/matplotlib/artist.py\u001b[0m in \u001b[0;36mdraw_wrapper\u001b[0;34m(artist, renderer, *args, **kwargs)\u001b[0m\n\u001b[1;32m     49\u001b[0m                 \u001b[0mrenderer\u001b[0m\u001b[0;34m.\u001b[0m\u001b[0mstart_filter\u001b[0m\u001b[0;34m(\u001b[0m\u001b[0;34m)\u001b[0m\u001b[0;34m\u001b[0m\u001b[0;34m\u001b[0m\u001b[0m\n\u001b[1;32m     50\u001b[0m \u001b[0;34m\u001b[0m\u001b[0m\n\u001b[0;32m---> 51\u001b[0;31m             \u001b[0;32mreturn\u001b[0m \u001b[0mdraw\u001b[0m\u001b[0;34m(\u001b[0m\u001b[0martist\u001b[0m\u001b[0;34m,\u001b[0m \u001b[0mrenderer\u001b[0m\u001b[0;34m,\u001b[0m \u001b[0;34m*\u001b[0m\u001b[0margs\u001b[0m\u001b[0;34m,\u001b[0m \u001b[0;34m**\u001b[0m\u001b[0mkwargs\u001b[0m\u001b[0;34m)\u001b[0m\u001b[0;34m\u001b[0m\u001b[0;34m\u001b[0m\u001b[0m\n\u001b[0m\u001b[1;32m     52\u001b[0m         \u001b[0;32mfinally\u001b[0m\u001b[0;34m:\u001b[0m\u001b[0;34m\u001b[0m\u001b[0;34m\u001b[0m\u001b[0m\n\u001b[1;32m     53\u001b[0m             \u001b[0;32mif\u001b[0m \u001b[0martist\u001b[0m\u001b[0;34m.\u001b[0m\u001b[0mget_agg_filter\u001b[0m\u001b[0;34m(\u001b[0m\u001b[0;34m)\u001b[0m \u001b[0;32mis\u001b[0m \u001b[0;32mnot\u001b[0m \u001b[0;32mNone\u001b[0m\u001b[0;34m:\u001b[0m\u001b[0;34m\u001b[0m\u001b[0;34m\u001b[0m\u001b[0m\n",
      "\u001b[0;32m~/.local/lib/python3.8/site-packages/matplotlib/collections.py\u001b[0m in \u001b[0;36mdraw\u001b[0;34m(self, renderer)\u001b[0m\n\u001b[1;32m   1010\u001b[0m     \u001b[0;32mdef\u001b[0m \u001b[0mdraw\u001b[0m\u001b[0;34m(\u001b[0m\u001b[0mself\u001b[0m\u001b[0;34m,\u001b[0m \u001b[0mrenderer\u001b[0m\u001b[0;34m)\u001b[0m\u001b[0;34m:\u001b[0m\u001b[0;34m\u001b[0m\u001b[0;34m\u001b[0m\u001b[0m\n\u001b[1;32m   1011\u001b[0m         \u001b[0mself\u001b[0m\u001b[0;34m.\u001b[0m\u001b[0mset_sizes\u001b[0m\u001b[0;34m(\u001b[0m\u001b[0mself\u001b[0m\u001b[0;34m.\u001b[0m\u001b[0m_sizes\u001b[0m\u001b[0;34m,\u001b[0m \u001b[0mself\u001b[0m\u001b[0;34m.\u001b[0m\u001b[0mfigure\u001b[0m\u001b[0;34m.\u001b[0m\u001b[0mdpi\u001b[0m\u001b[0;34m)\u001b[0m\u001b[0;34m\u001b[0m\u001b[0;34m\u001b[0m\u001b[0m\n\u001b[0;32m-> 1012\u001b[0;31m         \u001b[0msuper\u001b[0m\u001b[0;34m(\u001b[0m\u001b[0;34m)\u001b[0m\u001b[0;34m.\u001b[0m\u001b[0mdraw\u001b[0m\u001b[0;34m(\u001b[0m\u001b[0mrenderer\u001b[0m\u001b[0;34m)\u001b[0m\u001b[0;34m\u001b[0m\u001b[0;34m\u001b[0m\u001b[0m\n\u001b[0m\u001b[1;32m   1013\u001b[0m \u001b[0;34m\u001b[0m\u001b[0m\n\u001b[1;32m   1014\u001b[0m \u001b[0;34m\u001b[0m\u001b[0m\n",
      "\u001b[0;32m~/.local/lib/python3.8/site-packages/matplotlib/artist.py\u001b[0m in \u001b[0;36mdraw_wrapper\u001b[0;34m(artist, renderer, *args, **kwargs)\u001b[0m\n\u001b[1;32m     49\u001b[0m                 \u001b[0mrenderer\u001b[0m\u001b[0;34m.\u001b[0m\u001b[0mstart_filter\u001b[0m\u001b[0;34m(\u001b[0m\u001b[0;34m)\u001b[0m\u001b[0;34m\u001b[0m\u001b[0;34m\u001b[0m\u001b[0m\n\u001b[1;32m     50\u001b[0m \u001b[0;34m\u001b[0m\u001b[0m\n\u001b[0;32m---> 51\u001b[0;31m             \u001b[0;32mreturn\u001b[0m \u001b[0mdraw\u001b[0m\u001b[0;34m(\u001b[0m\u001b[0martist\u001b[0m\u001b[0;34m,\u001b[0m \u001b[0mrenderer\u001b[0m\u001b[0;34m,\u001b[0m \u001b[0;34m*\u001b[0m\u001b[0margs\u001b[0m\u001b[0;34m,\u001b[0m \u001b[0;34m**\u001b[0m\u001b[0mkwargs\u001b[0m\u001b[0;34m)\u001b[0m\u001b[0;34m\u001b[0m\u001b[0;34m\u001b[0m\u001b[0m\n\u001b[0m\u001b[1;32m     52\u001b[0m         \u001b[0;32mfinally\u001b[0m\u001b[0;34m:\u001b[0m\u001b[0;34m\u001b[0m\u001b[0;34m\u001b[0m\u001b[0m\n\u001b[1;32m     53\u001b[0m             \u001b[0;32mif\u001b[0m \u001b[0martist\u001b[0m\u001b[0;34m.\u001b[0m\u001b[0mget_agg_filter\u001b[0m\u001b[0;34m(\u001b[0m\u001b[0;34m)\u001b[0m \u001b[0;32mis\u001b[0m \u001b[0;32mnot\u001b[0m \u001b[0;32mNone\u001b[0m\u001b[0;34m:\u001b[0m\u001b[0;34m\u001b[0m\u001b[0;34m\u001b[0m\u001b[0m\n",
      "\u001b[0;32m~/.local/lib/python3.8/site-packages/matplotlib/collections.py\u001b[0m in \u001b[0;36mdraw\u001b[0;34m(self, renderer)\u001b[0m\n\u001b[1;32m    408\u001b[0m                 mpath.Path(offsets), transOffset, tuple(facecolors[0]))\n\u001b[1;32m    409\u001b[0m         \u001b[0;32melse\u001b[0m\u001b[0;34m:\u001b[0m\u001b[0;34m\u001b[0m\u001b[0;34m\u001b[0m\u001b[0m\n\u001b[0;32m--> 410\u001b[0;31m             renderer.draw_path_collection(\n\u001b[0m\u001b[1;32m    411\u001b[0m                 \u001b[0mgc\u001b[0m\u001b[0;34m,\u001b[0m \u001b[0mtransform\u001b[0m\u001b[0;34m.\u001b[0m\u001b[0mfrozen\u001b[0m\u001b[0;34m(\u001b[0m\u001b[0;34m)\u001b[0m\u001b[0;34m,\u001b[0m \u001b[0mpaths\u001b[0m\u001b[0;34m,\u001b[0m\u001b[0;34m\u001b[0m\u001b[0;34m\u001b[0m\u001b[0m\n\u001b[1;32m    412\u001b[0m                 \u001b[0mself\u001b[0m\u001b[0;34m.\u001b[0m\u001b[0mget_transforms\u001b[0m\u001b[0;34m(\u001b[0m\u001b[0;34m)\u001b[0m\u001b[0;34m,\u001b[0m \u001b[0moffsets\u001b[0m\u001b[0;34m,\u001b[0m \u001b[0mtransOffset\u001b[0m\u001b[0;34m,\u001b[0m\u001b[0;34m\u001b[0m\u001b[0;34m\u001b[0m\u001b[0m\n",
      "\u001b[0;32m~/.local/lib/python3.8/site-packages/matplotlib/backends/backend_agg.py\u001b[0m in \u001b[0;36mdraw_path_collection\u001b[0;34m(self, gc, master_transform, paths, all_transforms, offsets, offsetTrans, facecolors, edgecolors, linewidths, linestyles, antialiaseds, urls, offset_position)\u001b[0m\n\u001b[1;32m    172\u001b[0m                 \u001b[0;34m\"3.3\"\u001b[0m\u001b[0;34m,\u001b[0m \u001b[0mmessage\u001b[0m\u001b[0;34m=\u001b[0m\u001b[0;34m\"Support for offset_position='data' is \"\u001b[0m\u001b[0;34m\u001b[0m\u001b[0;34m\u001b[0m\u001b[0m\n\u001b[1;32m    173\u001b[0m                 \"deprecated since %(since)s and will be removed %(removal)s.\")\n\u001b[0;32m--> 174\u001b[0;31m         return self._renderer.draw_path_collection(\n\u001b[0m\u001b[1;32m    175\u001b[0m             \u001b[0mgc\u001b[0m\u001b[0;34m,\u001b[0m \u001b[0mmaster_transform\u001b[0m\u001b[0;34m,\u001b[0m \u001b[0mpaths\u001b[0m\u001b[0;34m,\u001b[0m \u001b[0mall_transforms\u001b[0m\u001b[0;34m,\u001b[0m \u001b[0moffsets\u001b[0m\u001b[0;34m,\u001b[0m \u001b[0moffsetTrans\u001b[0m\u001b[0;34m,\u001b[0m\u001b[0;34m\u001b[0m\u001b[0;34m\u001b[0m\u001b[0m\n\u001b[1;32m    176\u001b[0m             \u001b[0mfacecolors\u001b[0m\u001b[0;34m,\u001b[0m \u001b[0medgecolors\u001b[0m\u001b[0;34m,\u001b[0m \u001b[0mlinewidths\u001b[0m\u001b[0;34m,\u001b[0m \u001b[0mlinestyles\u001b[0m\u001b[0;34m,\u001b[0m \u001b[0mantialiaseds\u001b[0m\u001b[0;34m,\u001b[0m \u001b[0murls\u001b[0m\u001b[0;34m,\u001b[0m\u001b[0;34m\u001b[0m\u001b[0;34m\u001b[0m\u001b[0m\n",
      "\u001b[0;32m~/.local/lib/python3.8/site-packages/matplotlib/path.py\u001b[0m in \u001b[0;36mvertices\u001b[0;34m(self)\u001b[0m\n\u001b[1;32m    197\u001b[0m         )\n\u001b[1;32m    198\u001b[0m \u001b[0;34m\u001b[0m\u001b[0m\n\u001b[0;32m--> 199\u001b[0;31m     \u001b[0;34m@\u001b[0m\u001b[0mproperty\u001b[0m\u001b[0;34m\u001b[0m\u001b[0;34m\u001b[0m\u001b[0m\n\u001b[0m\u001b[1;32m    200\u001b[0m     \u001b[0;32mdef\u001b[0m \u001b[0mvertices\u001b[0m\u001b[0;34m(\u001b[0m\u001b[0mself\u001b[0m\u001b[0;34m)\u001b[0m\u001b[0;34m:\u001b[0m\u001b[0;34m\u001b[0m\u001b[0;34m\u001b[0m\u001b[0m\n\u001b[1;32m    201\u001b[0m         \"\"\"\n",
      "\u001b[0;31mKeyboardInterrupt\u001b[0m: "
     ]
    }
   ],
   "source": [
    "plot_kws={\"s\":1}\n",
    "sns.pairplot(athlete2, hue = 'Sex');"
   ]
  },
  {
   "cell_type": "code",
   "execution_count": 340,
   "id": "e9e50c5c",
   "metadata": {},
   "outputs": [
    {
     "data": {
      "text/plain": [
       "0.7983697858355089"
      ]
     },
     "execution_count": 340,
     "metadata": {},
     "output_type": "execute_result"
    }
   ],
   "source": [
    "corr=athlete2['Height'].corr(athlete2['Weight'])\n",
    "corr"
   ]
  },
  {
   "cell_type": "code",
   "execution_count": 341,
   "id": "10ede459",
   "metadata": {},
   "outputs": [
    {
     "data": {
      "text/plain": [
       "0.21079955250702573"
      ]
     },
     "execution_count": 341,
     "metadata": {},
     "output_type": "execute_result"
    }
   ],
   "source": [
    "corr1=athlete2['Weight'].corr(athlete2['Age'])\n",
    "corr1"
   ]
  },
  {
   "cell_type": "code",
   "execution_count": 342,
   "id": "383f91b2",
   "metadata": {},
   "outputs": [
    {
     "data": {
      "text/html": [
       "<div>\n",
       "<style scoped>\n",
       "    .dataframe tbody tr th:only-of-type {\n",
       "        vertical-align: middle;\n",
       "    }\n",
       "\n",
       "    .dataframe tbody tr th {\n",
       "        vertical-align: top;\n",
       "    }\n",
       "\n",
       "    .dataframe thead th {\n",
       "        text-align: right;\n",
       "    }\n",
       "</style>\n",
       "<table border=\"1\" class=\"dataframe\">\n",
       "  <thead>\n",
       "    <tr style=\"text-align: right;\">\n",
       "      <th></th>\n",
       "      <th>Name</th>\n",
       "      <th>Year</th>\n",
       "      <th>Sex</th>\n",
       "      <th>Age</th>\n",
       "      <th>Height</th>\n",
       "      <th>Weight</th>\n",
       "      <th>NOC</th>\n",
       "      <th>Medal</th>\n",
       "      <th>Season</th>\n",
       "      <th>Sport</th>\n",
       "      <th>City</th>\n",
       "      <th>Population</th>\n",
       "    </tr>\n",
       "  </thead>\n",
       "  <tbody>\n",
       "    <tr>\n",
       "      <th>128</th>\n",
       "      <td>Hans Aasns</td>\n",
       "      <td>1956</td>\n",
       "      <td>M</td>\n",
       "      <td>53.0</td>\n",
       "      <td>194.0</td>\n",
       "      <td>93.0</td>\n",
       "      <td>NOR</td>\n",
       "      <td>N</td>\n",
       "      <td>Summer</td>\n",
       "      <td>Shooting</td>\n",
       "      <td>Melbourne</td>\n",
       "      <td>5195921.0</td>\n",
       "    </tr>\n",
       "    <tr>\n",
       "      <th>129</th>\n",
       "      <td>Hans Aasns</td>\n",
       "      <td>1960</td>\n",
       "      <td>M</td>\n",
       "      <td>57.0</td>\n",
       "      <td>194.0</td>\n",
       "      <td>93.0</td>\n",
       "      <td>NOR</td>\n",
       "      <td>N</td>\n",
       "      <td>Summer</td>\n",
       "      <td>Shooting</td>\n",
       "      <td>Roma</td>\n",
       "      <td>5195921.0</td>\n",
       "    </tr>\n",
       "    <tr>\n",
       "      <th>698</th>\n",
       "      <td>Roger Abel</td>\n",
       "      <td>1952</td>\n",
       "      <td>M</td>\n",
       "      <td>52.0</td>\n",
       "      <td>NaN</td>\n",
       "      <td>NaN</td>\n",
       "      <td>MON</td>\n",
       "      <td>N</td>\n",
       "      <td>Summer</td>\n",
       "      <td>Shooting</td>\n",
       "      <td>Helsinki</td>\n",
       "      <td>37731.0</td>\n",
       "    </tr>\n",
       "    <tr>\n",
       "      <th>699</th>\n",
       "      <td>Roger Abel</td>\n",
       "      <td>1952</td>\n",
       "      <td>M</td>\n",
       "      <td>52.0</td>\n",
       "      <td>NaN</td>\n",
       "      <td>NaN</td>\n",
       "      <td>MON</td>\n",
       "      <td>N</td>\n",
       "      <td>Summer</td>\n",
       "      <td>Shooting</td>\n",
       "      <td>Helsinki</td>\n",
       "      <td>37731.0</td>\n",
       "    </tr>\n",
       "    <tr>\n",
       "      <th>1503</th>\n",
       "      <td>Phillip Maxwell \"Phil\" Adams</td>\n",
       "      <td>1996</td>\n",
       "      <td>M</td>\n",
       "      <td>50.0</td>\n",
       "      <td>163.0</td>\n",
       "      <td>93.0</td>\n",
       "      <td>AUS</td>\n",
       "      <td>N</td>\n",
       "      <td>Summer</td>\n",
       "      <td>Shooting</td>\n",
       "      <td>Atlanta</td>\n",
       "      <td>23781169.0</td>\n",
       "    </tr>\n",
       "    <tr>\n",
       "      <th>...</th>\n",
       "      <td>...</td>\n",
       "      <td>...</td>\n",
       "      <td>...</td>\n",
       "      <td>...</td>\n",
       "      <td>...</td>\n",
       "      <td>...</td>\n",
       "      <td>...</td>\n",
       "      <td>...</td>\n",
       "      <td>...</td>\n",
       "      <td>...</td>\n",
       "      <td>...</td>\n",
       "      <td>...</td>\n",
       "    </tr>\n",
       "    <tr>\n",
       "      <th>266228</th>\n",
       "      <td>Darius Robert Young</td>\n",
       "      <td>1992</td>\n",
       "      <td>M</td>\n",
       "      <td>54.0</td>\n",
       "      <td>190.0</td>\n",
       "      <td>91.0</td>\n",
       "      <td>USA</td>\n",
       "      <td>N</td>\n",
       "      <td>Summer</td>\n",
       "      <td>Shooting</td>\n",
       "      <td>Barcelona</td>\n",
       "      <td>321418820.0</td>\n",
       "    </tr>\n",
       "    <tr>\n",
       "      <th>266229</th>\n",
       "      <td>Darius Robert Young</td>\n",
       "      <td>1992</td>\n",
       "      <td>M</td>\n",
       "      <td>54.0</td>\n",
       "      <td>190.0</td>\n",
       "      <td>91.0</td>\n",
       "      <td>USA</td>\n",
       "      <td>N</td>\n",
       "      <td>Summer</td>\n",
       "      <td>Shooting</td>\n",
       "      <td>Barcelona</td>\n",
       "      <td>321418820.0</td>\n",
       "    </tr>\n",
       "    <tr>\n",
       "      <th>267815</th>\n",
       "      <td>Jzef Zapdzki</td>\n",
       "      <td>1980</td>\n",
       "      <td>M</td>\n",
       "      <td>51.0</td>\n",
       "      <td>174.0</td>\n",
       "      <td>71.0</td>\n",
       "      <td>POL</td>\n",
       "      <td>N</td>\n",
       "      <td>Summer</td>\n",
       "      <td>Shooting</td>\n",
       "      <td>Moskva</td>\n",
       "      <td>37999494.0</td>\n",
       "    </tr>\n",
       "    <tr>\n",
       "      <th>268567</th>\n",
       "      <td>Xavier Zequeira Blanco</td>\n",
       "      <td>1960</td>\n",
       "      <td>M</td>\n",
       "      <td>53.0</td>\n",
       "      <td>180.0</td>\n",
       "      <td>92.0</td>\n",
       "      <td>PUR</td>\n",
       "      <td>N</td>\n",
       "      <td>Summer</td>\n",
       "      <td>Shooting</td>\n",
       "      <td>Roma</td>\n",
       "      <td>3474182.0</td>\n",
       "    </tr>\n",
       "    <tr>\n",
       "      <th>269857</th>\n",
       "      <td>Christian Zimmermann</td>\n",
       "      <td>2016</td>\n",
       "      <td>M</td>\n",
       "      <td>54.0</td>\n",
       "      <td>NaN</td>\n",
       "      <td>NaN</td>\n",
       "      <td>PLE</td>\n",
       "      <td>N</td>\n",
       "      <td>Summer</td>\n",
       "      <td>Equestrianism</td>\n",
       "      <td>Rio de Janeiro</td>\n",
       "      <td>NaN</td>\n",
       "    </tr>\n",
       "  </tbody>\n",
       "</table>\n",
       "<p>646 rows × 12 columns</p>\n",
       "</div>"
      ],
      "text/plain": [
       "                                Name  Year Sex   Age  Height  Weight  NOC  \\\n",
       "128                       Hans Aasns  1956   M  53.0   194.0    93.0  NOR   \n",
       "129                       Hans Aasns  1960   M  57.0   194.0    93.0  NOR   \n",
       "698                       Roger Abel  1952   M  52.0     NaN     NaN  MON   \n",
       "699                       Roger Abel  1952   M  52.0     NaN     NaN  MON   \n",
       "1503    Phillip Maxwell \"Phil\" Adams  1996   M  50.0   163.0    93.0  AUS   \n",
       "...                              ...   ...  ..   ...     ...     ...  ...   \n",
       "266228           Darius Robert Young  1992   M  54.0   190.0    91.0  USA   \n",
       "266229           Darius Robert Young  1992   M  54.0   190.0    91.0  USA   \n",
       "267815                  Jzef Zapdzki  1980   M  51.0   174.0    71.0  POL   \n",
       "268567        Xavier Zequeira Blanco  1960   M  53.0   180.0    92.0  PUR   \n",
       "269857          Christian Zimmermann  2016   M  54.0     NaN     NaN  PLE   \n",
       "\n",
       "       Medal  Season          Sport            City   Population  \n",
       "128        N  Summer       Shooting       Melbourne    5195921.0  \n",
       "129        N  Summer       Shooting            Roma    5195921.0  \n",
       "698        N  Summer       Shooting        Helsinki      37731.0  \n",
       "699        N  Summer       Shooting        Helsinki      37731.0  \n",
       "1503       N  Summer       Shooting         Atlanta   23781169.0  \n",
       "...      ...     ...            ...             ...          ...  \n",
       "266228     N  Summer       Shooting       Barcelona  321418820.0  \n",
       "266229     N  Summer       Shooting       Barcelona  321418820.0  \n",
       "267815     N  Summer       Shooting          Moskva   37999494.0  \n",
       "268567     N  Summer       Shooting            Roma    3474182.0  \n",
       "269857     N  Summer  Equestrianism  Rio de Janeiro          NaN  \n",
       "\n",
       "[646 rows x 12 columns]"
      ]
     },
     "execution_count": 342,
     "metadata": {},
     "output_type": "execute_result"
    }
   ],
   "source": [
    "fiftyplus = merge2[(merge2['Age']>=50) & (merge2['Year']>1948)]\n",
    "fiftyplus"
   ]
  },
  {
   "cell_type": "code",
   "execution_count": 343,
   "id": "51a76680",
   "metadata": {},
   "outputs": [
    {
     "data": {
      "text/plain": [
       "Name           object\n",
       "Year            int64\n",
       "Sex            object\n",
       "Age           float64\n",
       "Height        float64\n",
       "Weight        float64\n",
       "NOC            object\n",
       "Medal          object\n",
       "Season         object\n",
       "Sport          object\n",
       "City           object\n",
       "Population    float64\n",
       "dtype: object"
      ]
     },
     "execution_count": 343,
     "metadata": {},
     "output_type": "execute_result"
    }
   ],
   "source": [
    "fiftyplus.dtypes"
   ]
  },
  {
   "cell_type": "code",
   "execution_count": 344,
   "id": "813675d1",
   "metadata": {},
   "outputs": [
    {
     "data": {
      "image/png": "[encoded data removed]",
      "text/plain": [
       "<Figure size 720x432 with 1 Axes>"
      ]
     },
     "metadata": {},
     "output_type": "display_data"
    }
   ],
   "source": [
    "#print(fiftyplus[('Sport')].value_counts(dropna=True))\n",
    "fig, ax=plt.subplots(figsize=(10,6))\n",
    "plt.xticks(rotation=45)\n",
    "\n",
    "ax = sns.countplot(x=\"Sport\", data=fiftyplus);\n",
    "ax.bar_label(ax.containers[0]);"
   ]
  },
  {
   "cell_type": "code",
   "execution_count": 345,
   "id": "d2d776c8",
   "metadata": {
    "scrolled": true
   },
   "outputs": [
    {
     "data": {
      "text/html": [
       "<div>\n",
       "<style scoped>\n",
       "    .dataframe tbody tr th:only-of-type {\n",
       "        vertical-align: middle;\n",
       "    }\n",
       "\n",
       "    .dataframe tbody tr th {\n",
       "        vertical-align: top;\n",
       "    }\n",
       "\n",
       "    .dataframe thead th {\n",
       "        text-align: right;\n",
       "    }\n",
       "</style>\n",
       "<table border=\"1\" class=\"dataframe\">\n",
       "  <thead>\n",
       "    <tr style=\"text-align: right;\">\n",
       "      <th></th>\n",
       "      <th>mean</th>\n",
       "      <th>median</th>\n",
       "      <th>amax</th>\n",
       "    </tr>\n",
       "    <tr>\n",
       "      <th>Sport</th>\n",
       "      <th></th>\n",
       "      <th></th>\n",
       "      <th></th>\n",
       "    </tr>\n",
       "  </thead>\n",
       "  <tbody>\n",
       "    <tr>\n",
       "      <th>Sailing</th>\n",
       "      <td>54.448276</td>\n",
       "      <td>53.5</td>\n",
       "      <td>70.0</td>\n",
       "    </tr>\n",
       "    <tr>\n",
       "      <th>Equestrianism</th>\n",
       "      <td>54.190661</td>\n",
       "      <td>53.0</td>\n",
       "      <td>71.0</td>\n",
       "    </tr>\n",
       "    <tr>\n",
       "      <th>Shooting</th>\n",
       "      <td>53.951754</td>\n",
       "      <td>53.0</td>\n",
       "      <td>70.0</td>\n",
       "    </tr>\n",
       "    <tr>\n",
       "      <th>Table Tennis</th>\n",
       "      <td>52.333333</td>\n",
       "      <td>53.0</td>\n",
       "      <td>54.0</td>\n",
       "    </tr>\n",
       "    <tr>\n",
       "      <th>Luge</th>\n",
       "      <td>52.500000</td>\n",
       "      <td>52.5</td>\n",
       "      <td>53.0</td>\n",
       "    </tr>\n",
       "    <tr>\n",
       "      <th>Archery</th>\n",
       "      <td>53.666667</td>\n",
       "      <td>52.0</td>\n",
       "      <td>62.0</td>\n",
       "    </tr>\n",
       "    <tr>\n",
       "      <th>Bobsleigh</th>\n",
       "      <td>51.800000</td>\n",
       "      <td>52.0</td>\n",
       "      <td>53.0</td>\n",
       "    </tr>\n",
       "    <tr>\n",
       "      <th>Rowing</th>\n",
       "      <td>53.666667</td>\n",
       "      <td>52.0</td>\n",
       "      <td>60.0</td>\n",
       "    </tr>\n",
       "    <tr>\n",
       "      <th>Alpine Skiing</th>\n",
       "      <td>52.333333</td>\n",
       "      <td>51.0</td>\n",
       "      <td>55.0</td>\n",
       "    </tr>\n",
       "    <tr>\n",
       "      <th>Athletics</th>\n",
       "      <td>50.000000</td>\n",
       "      <td>50.0</td>\n",
       "      <td>50.0</td>\n",
       "    </tr>\n",
       "    <tr>\n",
       "      <th>Curling</th>\n",
       "      <td>50.000000</td>\n",
       "      <td>50.0</td>\n",
       "      <td>50.0</td>\n",
       "    </tr>\n",
       "    <tr>\n",
       "      <th>Fencing</th>\n",
       "      <td>50.727273</td>\n",
       "      <td>50.0</td>\n",
       "      <td>53.0</td>\n",
       "    </tr>\n",
       "  </tbody>\n",
       "</table>\n",
       "</div>"
      ],
      "text/plain": [
       "                    mean  median  amax\n",
       "Sport                                 \n",
       "Sailing        54.448276    53.5  70.0\n",
       "Equestrianism  54.190661    53.0  71.0\n",
       "Shooting       53.951754    53.0  70.0\n",
       "Table Tennis   52.333333    53.0  54.0\n",
       "Luge           52.500000    52.5  53.0\n",
       "Archery        53.666667    52.0  62.0\n",
       "Bobsleigh      51.800000    52.0  53.0\n",
       "Rowing         53.666667    52.0  60.0\n",
       "Alpine Skiing  52.333333    51.0  55.0\n",
       "Athletics      50.000000    50.0  50.0\n",
       "Curling        50.000000    50.0  50.0\n",
       "Fencing        50.727273    50.0  53.0"
      ]
     },
     "execution_count": 345,
     "metadata": {},
     "output_type": "execute_result"
    }
   ],
   "source": [
    "stats = fiftyplus.groupby(['Sport'])\n",
    "\n",
    "stats2 = stats['Age'].agg([np.mean, np.median, np.max])\n",
    "stats2 = stats2.sort_values(by = 'median', ascending=False)\n",
    "stats2"
   ]
  },
  {
   "cell_type": "code",
   "execution_count": 346,
   "id": "7c5bb438",
   "metadata": {},
   "outputs": [
    {
     "data": {
      "text/plain": [
       "Sex           M\n",
       "Age        71.0\n",
       "Height    226.0\n",
       "Weight    214.0\n",
       "Medal         S\n",
       "Year       2016\n",
       "dtype: object"
      ]
     },
     "execution_count": 346,
     "metadata": {},
     "output_type": "execute_result"
    }
   ],
   "source": [
    "athlete2 = athlete2[athlete2.Age<74]\n",
    "athlete2.max()"
   ]
  },
  {
   "cell_type": "code",
   "execution_count": 347,
   "id": "4213a99c",
   "metadata": {},
   "outputs": [
    {
     "data": {
      "text/plain": [
       "Sex           F\n",
       "Age        11.0\n",
       "Height    127.0\n",
       "Weight     25.0\n",
       "Medal         B\n",
       "Year       1952\n",
       "dtype: object"
      ]
     },
     "execution_count": 347,
     "metadata": {},
     "output_type": "execute_result"
    }
   ],
   "source": [
    "athlete2 = athlete2[athlete2.Age<74]\n",
    "athlete2.min()"
   ]
  },
  {
   "cell_type": "code",
   "execution_count": 348,
   "id": "dedcd991",
   "metadata": {},
   "outputs": [
    {
     "data": {
      "text/html": [
       "<div>\n",
       "<style scoped>\n",
       "    .dataframe tbody tr th:only-of-type {\n",
       "        vertical-align: middle;\n",
       "    }\n",
       "\n",
       "    .dataframe tbody tr th {\n",
       "        vertical-align: top;\n",
       "    }\n",
       "\n",
       "    .dataframe thead th {\n",
       "        text-align: right;\n",
       "    }\n",
       "</style>\n",
       "<table border=\"1\" class=\"dataframe\">\n",
       "  <thead>\n",
       "    <tr style=\"text-align: right;\">\n",
       "      <th></th>\n",
       "      <th>Name</th>\n",
       "      <th>Year</th>\n",
       "      <th>Sex</th>\n",
       "      <th>Age</th>\n",
       "      <th>Height</th>\n",
       "      <th>Weight</th>\n",
       "      <th>NOC</th>\n",
       "      <th>Medal</th>\n",
       "      <th>Season</th>\n",
       "      <th>Sport</th>\n",
       "      <th>City</th>\n",
       "      <th>Population</th>\n",
       "    </tr>\n",
       "  </thead>\n",
       "  <tbody>\n",
       "    <tr>\n",
       "      <th>23155</th>\n",
       "      <td>Ricardo Blas, Jr.</td>\n",
       "      <td>2008</td>\n",
       "      <td>M</td>\n",
       "      <td>21.0</td>\n",
       "      <td>183.0</td>\n",
       "      <td>214.0</td>\n",
       "      <td>GUM</td>\n",
       "      <td>N</td>\n",
       "      <td>Summer</td>\n",
       "      <td>Judo</td>\n",
       "      <td>Beijing</td>\n",
       "      <td>169885.0</td>\n",
       "    </tr>\n",
       "    <tr>\n",
       "      <th>23156</th>\n",
       "      <td>Ricardo Blas, Jr.</td>\n",
       "      <td>2012</td>\n",
       "      <td>M</td>\n",
       "      <td>25.0</td>\n",
       "      <td>183.0</td>\n",
       "      <td>214.0</td>\n",
       "      <td>GUM</td>\n",
       "      <td>N</td>\n",
       "      <td>Summer</td>\n",
       "      <td>Judo</td>\n",
       "      <td>London</td>\n",
       "      <td>169885.0</td>\n",
       "    </tr>\n",
       "  </tbody>\n",
       "</table>\n",
       "</div>"
      ],
      "text/plain": [
       "                    Name  Year Sex   Age  Height  Weight  NOC Medal  Season  \\\n",
       "23155  Ricardo Blas, Jr.  2008   M  21.0   183.0   214.0  GUM     N  Summer   \n",
       "23156  Ricardo Blas, Jr.  2012   M  25.0   183.0   214.0  GUM     N  Summer   \n",
       "\n",
       "      Sport     City  Population  \n",
       "23155  Judo  Beijing    169885.0  \n",
       "23156  Judo   London    169885.0  "
      ]
     },
     "execution_count": 348,
     "metadata": {},
     "output_type": "execute_result"
    }
   ],
   "source": [
    "top_weight = merge2[merge2['Weight'] == 214.0]\n",
    "top_weight"
   ]
  },
  {
   "cell_type": "code",
   "execution_count": 349,
   "id": "47458b06",
   "metadata": {},
   "outputs": [
    {
     "data": {
      "text/html": [
       "<div>\n",
       "<style scoped>\n",
       "    .dataframe tbody tr th:only-of-type {\n",
       "        vertical-align: middle;\n",
       "    }\n",
       "\n",
       "    .dataframe tbody tr th {\n",
       "        vertical-align: top;\n",
       "    }\n",
       "\n",
       "    .dataframe thead th {\n",
       "        text-align: right;\n",
       "    }\n",
       "</style>\n",
       "<table border=\"1\" class=\"dataframe\">\n",
       "  <thead>\n",
       "    <tr style=\"text-align: right;\">\n",
       "      <th></th>\n",
       "      <th>Name</th>\n",
       "      <th>Year</th>\n",
       "      <th>Sex</th>\n",
       "      <th>Age</th>\n",
       "      <th>Height</th>\n",
       "      <th>Weight</th>\n",
       "      <th>NOC</th>\n",
       "      <th>Medal</th>\n",
       "      <th>Season</th>\n",
       "      <th>Sport</th>\n",
       "      <th>City</th>\n",
       "      <th>Population</th>\n",
       "    </tr>\n",
       "  </thead>\n",
       "  <tbody>\n",
       "    <tr>\n",
       "      <th>40849</th>\n",
       "      <td>Choi Myong-Hui</td>\n",
       "      <td>1980</td>\n",
       "      <td>F</td>\n",
       "      <td>14.0</td>\n",
       "      <td>135.0</td>\n",
       "      <td>25.0</td>\n",
       "      <td>PRK</td>\n",
       "      <td>N</td>\n",
       "      <td>Summer</td>\n",
       "      <td>Gymnastics</td>\n",
       "      <td>Moskva</td>\n",
       "      <td>25155317.0</td>\n",
       "    </tr>\n",
       "    <tr>\n",
       "      <th>40850</th>\n",
       "      <td>Choi Myong-Hui</td>\n",
       "      <td>1980</td>\n",
       "      <td>F</td>\n",
       "      <td>14.0</td>\n",
       "      <td>135.0</td>\n",
       "      <td>25.0</td>\n",
       "      <td>PRK</td>\n",
       "      <td>N</td>\n",
       "      <td>Summer</td>\n",
       "      <td>Gymnastics</td>\n",
       "      <td>Moskva</td>\n",
       "      <td>25155317.0</td>\n",
       "    </tr>\n",
       "    <tr>\n",
       "      <th>40851</th>\n",
       "      <td>Choi Myong-Hui</td>\n",
       "      <td>1980</td>\n",
       "      <td>F</td>\n",
       "      <td>14.0</td>\n",
       "      <td>135.0</td>\n",
       "      <td>25.0</td>\n",
       "      <td>PRK</td>\n",
       "      <td>N</td>\n",
       "      <td>Summer</td>\n",
       "      <td>Gymnastics</td>\n",
       "      <td>Moskva</td>\n",
       "      <td>25155317.0</td>\n",
       "    </tr>\n",
       "    <tr>\n",
       "      <th>40852</th>\n",
       "      <td>Choi Myong-Hui</td>\n",
       "      <td>1980</td>\n",
       "      <td>F</td>\n",
       "      <td>14.0</td>\n",
       "      <td>135.0</td>\n",
       "      <td>25.0</td>\n",
       "      <td>PRK</td>\n",
       "      <td>N</td>\n",
       "      <td>Summer</td>\n",
       "      <td>Gymnastics</td>\n",
       "      <td>Moskva</td>\n",
       "      <td>25155317.0</td>\n",
       "    </tr>\n",
       "    <tr>\n",
       "      <th>40853</th>\n",
       "      <td>Choi Myong-Hui</td>\n",
       "      <td>1980</td>\n",
       "      <td>F</td>\n",
       "      <td>14.0</td>\n",
       "      <td>135.0</td>\n",
       "      <td>25.0</td>\n",
       "      <td>PRK</td>\n",
       "      <td>N</td>\n",
       "      <td>Summer</td>\n",
       "      <td>Gymnastics</td>\n",
       "      <td>Moskva</td>\n",
       "      <td>25155317.0</td>\n",
       "    </tr>\n",
       "    <tr>\n",
       "      <th>40854</th>\n",
       "      <td>Choi Myong-Hui</td>\n",
       "      <td>1980</td>\n",
       "      <td>F</td>\n",
       "      <td>14.0</td>\n",
       "      <td>135.0</td>\n",
       "      <td>25.0</td>\n",
       "      <td>PRK</td>\n",
       "      <td>N</td>\n",
       "      <td>Summer</td>\n",
       "      <td>Gymnastics</td>\n",
       "      <td>Moskva</td>\n",
       "      <td>25155317.0</td>\n",
       "    </tr>\n",
       "  </tbody>\n",
       "</table>\n",
       "</div>"
      ],
      "text/plain": [
       "                 Name  Year Sex   Age  Height  Weight  NOC Medal  Season  \\\n",
       "40849  Choi Myong-Hui  1980   F  14.0   135.0    25.0  PRK     N  Summer   \n",
       "40850  Choi Myong-Hui  1980   F  14.0   135.0    25.0  PRK     N  Summer   \n",
       "40851  Choi Myong-Hui  1980   F  14.0   135.0    25.0  PRK     N  Summer   \n",
       "40852  Choi Myong-Hui  1980   F  14.0   135.0    25.0  PRK     N  Summer   \n",
       "40853  Choi Myong-Hui  1980   F  14.0   135.0    25.0  PRK     N  Summer   \n",
       "40854  Choi Myong-Hui  1980   F  14.0   135.0    25.0  PRK     N  Summer   \n",
       "\n",
       "            Sport    City  Population  \n",
       "40849  Gymnastics  Moskva  25155317.0  \n",
       "40850  Gymnastics  Moskva  25155317.0  \n",
       "40851  Gymnastics  Moskva  25155317.0  \n",
       "40852  Gymnastics  Moskva  25155317.0  \n",
       "40853  Gymnastics  Moskva  25155317.0  \n",
       "40854  Gymnastics  Moskva  25155317.0  "
      ]
     },
     "execution_count": 349,
     "metadata": {},
     "output_type": "execute_result"
    }
   ],
   "source": [
    "low_weight = merge2[merge2['Weight'] == 25.0]\n",
    "low_weight"
   ]
  },
  {
   "cell_type": "code",
   "execution_count": 350,
   "id": "d1563cc1",
   "metadata": {},
   "outputs": [
    {
     "data": {
      "text/html": [
       "<div>\n",
       "<style scoped>\n",
       "    .dataframe tbody tr th:only-of-type {\n",
       "        vertical-align: middle;\n",
       "    }\n",
       "\n",
       "    .dataframe tbody tr th {\n",
       "        vertical-align: top;\n",
       "    }\n",
       "\n",
       "    .dataframe thead th {\n",
       "        text-align: right;\n",
       "    }\n",
       "</style>\n",
       "<table border=\"1\" class=\"dataframe\">\n",
       "  <thead>\n",
       "    <tr style=\"text-align: right;\">\n",
       "      <th></th>\n",
       "      <th>Name</th>\n",
       "      <th>Year</th>\n",
       "      <th>Sex</th>\n",
       "      <th>Age</th>\n",
       "      <th>Height</th>\n",
       "      <th>Weight</th>\n",
       "      <th>NOC</th>\n",
       "      <th>Medal</th>\n",
       "      <th>Season</th>\n",
       "      <th>Sport</th>\n",
       "      <th>City</th>\n",
       "      <th>Population</th>\n",
       "    </tr>\n",
       "  </thead>\n",
       "  <tbody>\n",
       "    <tr>\n",
       "      <th>265040</th>\n",
       "      <td>Yao Ming</td>\n",
       "      <td>2000</td>\n",
       "      <td>M</td>\n",
       "      <td>20.0</td>\n",
       "      <td>226.0</td>\n",
       "      <td>141.0</td>\n",
       "      <td>CHN</td>\n",
       "      <td>N</td>\n",
       "      <td>Summer</td>\n",
       "      <td>Basketball</td>\n",
       "      <td>Sydney</td>\n",
       "      <td>1.371220e+09</td>\n",
       "    </tr>\n",
       "    <tr>\n",
       "      <th>265041</th>\n",
       "      <td>Yao Ming</td>\n",
       "      <td>2004</td>\n",
       "      <td>M</td>\n",
       "      <td>23.0</td>\n",
       "      <td>226.0</td>\n",
       "      <td>141.0</td>\n",
       "      <td>CHN</td>\n",
       "      <td>N</td>\n",
       "      <td>Summer</td>\n",
       "      <td>Basketball</td>\n",
       "      <td>Athina</td>\n",
       "      <td>1.371220e+09</td>\n",
       "    </tr>\n",
       "    <tr>\n",
       "      <th>265042</th>\n",
       "      <td>Yao Ming</td>\n",
       "      <td>2008</td>\n",
       "      <td>M</td>\n",
       "      <td>27.0</td>\n",
       "      <td>226.0</td>\n",
       "      <td>141.0</td>\n",
       "      <td>CHN</td>\n",
       "      <td>N</td>\n",
       "      <td>Summer</td>\n",
       "      <td>Basketball</td>\n",
       "      <td>Beijing</td>\n",
       "      <td>1.371220e+09</td>\n",
       "    </tr>\n",
       "  </tbody>\n",
       "</table>\n",
       "</div>"
      ],
      "text/plain": [
       "            Name  Year Sex   Age  Height  Weight  NOC Medal  Season  \\\n",
       "265040  Yao Ming  2000   M  20.0   226.0   141.0  CHN     N  Summer   \n",
       "265041  Yao Ming  2004   M  23.0   226.0   141.0  CHN     N  Summer   \n",
       "265042  Yao Ming  2008   M  27.0   226.0   141.0  CHN     N  Summer   \n",
       "\n",
       "             Sport     City    Population  \n",
       "265040  Basketball   Sydney  1.371220e+09  \n",
       "265041  Basketball   Athina  1.371220e+09  \n",
       "265042  Basketball  Beijing  1.371220e+09  "
      ]
     },
     "execution_count": 350,
     "metadata": {},
     "output_type": "execute_result"
    }
   ],
   "source": [
    "top_height = merge2[merge2['Height'] == 226.0]\n",
    "top_height"
   ]
  },
  {
   "cell_type": "code",
   "execution_count": 351,
   "id": "c61d190e",
   "metadata": {
    "scrolled": true
   },
   "outputs": [
    {
     "data": {
      "text/html": [
       "<div>\n",
       "<style scoped>\n",
       "    .dataframe tbody tr th:only-of-type {\n",
       "        vertical-align: middle;\n",
       "    }\n",
       "\n",
       "    .dataframe tbody tr th {\n",
       "        vertical-align: top;\n",
       "    }\n",
       "\n",
       "    .dataframe thead th {\n",
       "        text-align: right;\n",
       "    }\n",
       "</style>\n",
       "<table border=\"1\" class=\"dataframe\">\n",
       "  <thead>\n",
       "    <tr style=\"text-align: right;\">\n",
       "      <th></th>\n",
       "      <th>Name</th>\n",
       "      <th>Year</th>\n",
       "      <th>Sex</th>\n",
       "      <th>Age</th>\n",
       "      <th>Height</th>\n",
       "      <th>Weight</th>\n",
       "      <th>NOC</th>\n",
       "      <th>Medal</th>\n",
       "      <th>Season</th>\n",
       "      <th>Sport</th>\n",
       "      <th>City</th>\n",
       "      <th>Population</th>\n",
       "    </tr>\n",
       "  </thead>\n",
       "  <tbody>\n",
       "    <tr>\n",
       "      <th>29333</th>\n",
       "      <td>Rosario Briones</td>\n",
       "      <td>1968</td>\n",
       "      <td>F</td>\n",
       "      <td>15.0</td>\n",
       "      <td>127.0</td>\n",
       "      <td>42.0</td>\n",
       "      <td>MEX</td>\n",
       "      <td>N</td>\n",
       "      <td>Summer</td>\n",
       "      <td>Gymnastics</td>\n",
       "      <td>Mexico City</td>\n",
       "      <td>127017224.0</td>\n",
       "    </tr>\n",
       "    <tr>\n",
       "      <th>29334</th>\n",
       "      <td>Rosario Briones</td>\n",
       "      <td>1968</td>\n",
       "      <td>F</td>\n",
       "      <td>15.0</td>\n",
       "      <td>127.0</td>\n",
       "      <td>42.0</td>\n",
       "      <td>MEX</td>\n",
       "      <td>N</td>\n",
       "      <td>Summer</td>\n",
       "      <td>Gymnastics</td>\n",
       "      <td>Mexico City</td>\n",
       "      <td>127017224.0</td>\n",
       "    </tr>\n",
       "    <tr>\n",
       "      <th>29335</th>\n",
       "      <td>Rosario Briones</td>\n",
       "      <td>1968</td>\n",
       "      <td>F</td>\n",
       "      <td>15.0</td>\n",
       "      <td>127.0</td>\n",
       "      <td>42.0</td>\n",
       "      <td>MEX</td>\n",
       "      <td>N</td>\n",
       "      <td>Summer</td>\n",
       "      <td>Gymnastics</td>\n",
       "      <td>Mexico City</td>\n",
       "      <td>127017224.0</td>\n",
       "    </tr>\n",
       "    <tr>\n",
       "      <th>29336</th>\n",
       "      <td>Rosario Briones</td>\n",
       "      <td>1968</td>\n",
       "      <td>F</td>\n",
       "      <td>15.0</td>\n",
       "      <td>127.0</td>\n",
       "      <td>42.0</td>\n",
       "      <td>MEX</td>\n",
       "      <td>N</td>\n",
       "      <td>Summer</td>\n",
       "      <td>Gymnastics</td>\n",
       "      <td>Mexico City</td>\n",
       "      <td>127017224.0</td>\n",
       "    </tr>\n",
       "    <tr>\n",
       "      <th>29337</th>\n",
       "      <td>Rosario Briones</td>\n",
       "      <td>1968</td>\n",
       "      <td>F</td>\n",
       "      <td>15.0</td>\n",
       "      <td>127.0</td>\n",
       "      <td>42.0</td>\n",
       "      <td>MEX</td>\n",
       "      <td>N</td>\n",
       "      <td>Summer</td>\n",
       "      <td>Gymnastics</td>\n",
       "      <td>Mexico City</td>\n",
       "      <td>127017224.0</td>\n",
       "    </tr>\n",
       "    <tr>\n",
       "      <th>29338</th>\n",
       "      <td>Rosario Briones</td>\n",
       "      <td>1968</td>\n",
       "      <td>F</td>\n",
       "      <td>15.0</td>\n",
       "      <td>127.0</td>\n",
       "      <td>42.0</td>\n",
       "      <td>MEX</td>\n",
       "      <td>N</td>\n",
       "      <td>Summer</td>\n",
       "      <td>Gymnastics</td>\n",
       "      <td>Mexico City</td>\n",
       "      <td>127017224.0</td>\n",
       "    </tr>\n",
       "    <tr>\n",
       "      <th>164821</th>\n",
       "      <td>Lyton Levison Mphande</td>\n",
       "      <td>1988</td>\n",
       "      <td>M</td>\n",
       "      <td>25.0</td>\n",
       "      <td>127.0</td>\n",
       "      <td>62.0</td>\n",
       "      <td>MAW</td>\n",
       "      <td>N</td>\n",
       "      <td>Summer</td>\n",
       "      <td>Boxing</td>\n",
       "      <td>Seoul</td>\n",
       "      <td>17215232.0</td>\n",
       "    </tr>\n",
       "  </tbody>\n",
       "</table>\n",
       "</div>"
      ],
      "text/plain": [
       "                         Name  Year Sex   Age  Height  Weight  NOC Medal  \\\n",
       "29333         Rosario Briones  1968   F  15.0   127.0    42.0  MEX     N   \n",
       "29334         Rosario Briones  1968   F  15.0   127.0    42.0  MEX     N   \n",
       "29335         Rosario Briones  1968   F  15.0   127.0    42.0  MEX     N   \n",
       "29336         Rosario Briones  1968   F  15.0   127.0    42.0  MEX     N   \n",
       "29337         Rosario Briones  1968   F  15.0   127.0    42.0  MEX     N   \n",
       "29338         Rosario Briones  1968   F  15.0   127.0    42.0  MEX     N   \n",
       "164821  Lyton Levison Mphande  1988   M  25.0   127.0    62.0  MAW     N   \n",
       "\n",
       "        Season       Sport         City   Population  \n",
       "29333   Summer  Gymnastics  Mexico City  127017224.0  \n",
       "29334   Summer  Gymnastics  Mexico City  127017224.0  \n",
       "29335   Summer  Gymnastics  Mexico City  127017224.0  \n",
       "29336   Summer  Gymnastics  Mexico City  127017224.0  \n",
       "29337   Summer  Gymnastics  Mexico City  127017224.0  \n",
       "29338   Summer  Gymnastics  Mexico City  127017224.0  \n",
       "164821  Summer      Boxing        Seoul   17215232.0  "
      ]
     },
     "execution_count": 351,
     "metadata": {},
     "output_type": "execute_result"
    }
   ],
   "source": [
    "low_height = merge2[merge2['Height'] == 127.0]\n",
    "low_height"
   ]
  },
  {
   "cell_type": "code",
   "execution_count": 352,
   "id": "41d4c74b",
   "metadata": {},
   "outputs": [
    {
     "data": {
      "image/png": "[encoded data removed]",
      "text/plain": [
       "<Figure size 720x360 with 1 Axes>"
      ]
     },
     "metadata": {},
     "output_type": "display_data"
    }
   ],
   "source": [
    "dataH = athlete2.hist(column='Height', bins=20, grid=True, color='purple');"
   ]
  },
  {
   "cell_type": "code",
   "execution_count": 353,
   "id": "1e3ea693",
   "metadata": {},
   "outputs": [
    {
     "data": {
      "image/png": "[encoded data removed]",
      "text/plain": [
       "<Figure size 720x360 with 1 Axes>"
      ]
     },
     "metadata": {},
     "output_type": "display_data"
    }
   ],
   "source": [
    "athlete2.Height.plot.density(color='purple')\n",
    "plt.title('Density plot for Athlete Height')\n",
    "plt.show()"
   ]
  },
  {
   "cell_type": "code",
   "execution_count": 354,
   "id": "81b09c99",
   "metadata": {},
   "outputs": [
    {
     "data": {
      "image/png": "[encoded data removed]",
      "text/plain": [
       "<Figure size 720x360 with 2 Axes>"
      ]
     },
     "metadata": {},
     "output_type": "display_data"
    }
   ],
   "source": [
    "athlete2.hist(column='Height', by='Sex', bins=25, grid=True,color='purple', sharex=True);"
   ]
  },
  {
   "cell_type": "code",
   "execution_count": 355,
   "id": "c461cca0",
   "metadata": {
    "scrolled": true
   },
   "outputs": [
    {
     "data": {
      "image/png": "[encoded data removed]",
      "text/plain": [
       "<Figure size 720x360 with 1 Axes>"
      ]
     },
     "metadata": {},
     "output_type": "display_data"
    }
   ],
   "source": [
    "dataW=athlete2.hist(column='Weight', bins=25, grid=True, color='blue');\n"
   ]
  },
  {
   "cell_type": "code",
   "execution_count": 356,
   "id": "944de781",
   "metadata": {},
   "outputs": [
    {
     "data": {
      "image/png": "[encoded data removed]",
      "text/plain": [
       "<Figure size 720x360 with 1 Axes>"
      ]
     },
     "metadata": {},
     "output_type": "display_data"
    }
   ],
   "source": [
    "athlete2.Weight.plot.density(color='blue')\n",
    "plt.title('Density plot for Athlete Weight')\n",
    "plt.show()"
   ]
  },
  {
   "cell_type": "code",
   "execution_count": 357,
   "id": "5b43e0d5",
   "metadata": {},
   "outputs": [
    {
     "data": {
      "image/png": "[encoded data removed]",
      "text/plain": [
       "<Figure size 720x360 with 2 Axes>"
      ]
     },
     "metadata": {},
     "output_type": "display_data"
    }
   ],
   "source": [
    "athlete2.hist(column='Weight', by='Sex', bins=25, grid=True,color='blue', sharex=True);"
   ]
  },
  {
   "cell_type": "markdown",
   "id": "1d41a512",
   "metadata": {},
   "source": [
    "ANALYZING POPULATION WITH AND WITHOUT CHINA AND INDIA BY VIOLINPLOT"
   ]
  },
  {
   "cell_type": "code",
   "execution_count": 358,
   "id": "e4820aca",
   "metadata": {},
   "outputs": [
    {
     "data": {
      "text/plain": [
       "Season\n",
       "Summer    39032383.0\n",
       "Winter    35851774.0\n",
       "Name: Population, dtype: float64"
      ]
     },
     "execution_count": 358,
     "metadata": {},
     "output_type": "execute_result"
    }
   ],
   "source": [
    "merge2.groupby(['Season'])['Population'].median()"
   ]
  },
  {
   "cell_type": "code",
   "execution_count": 359,
   "id": "96903d13",
   "metadata": {},
   "outputs": [
    {
     "data": {
      "image/png": "[encoded data removed]",
      "text/plain": [
       "<Figure size 648x432 with 1 Axes>"
      ]
     },
     "metadata": {},
     "output_type": "display_data"
    }
   ],
   "source": [
    "fig, ax=plt.subplots(figsize=(9,6))\n",
    "sns.violinplot(x='Season', y='Population', cut=0, data=merge2);"
   ]
  },
  {
   "cell_type": "code",
   "execution_count": 378,
   "id": "790602a1",
   "metadata": {},
   "outputs": [
    {
     "data": {
      "image/png": "[encoded data removed]",
      "text/plain": [
       "<Figure size 648x432 with 1 Axes>"
      ]
     },
     "metadata": {},
     "output_type": "display_data"
    }
   ],
   "source": [
    "no_china_india = merge2[(merge2['NOC'] != 'CHN') & \n",
    "                       (merge2['NOC'] != 'IND')]\n",
    "no_china_india.head\n",
    "#no = merge_final.drop(df_china, inplace = True)\n",
    "fig, ax=plt.subplots(figsize=(9,6))\n",
    "sns.violinplot(x='Season', y='Population', cut=0, data=no_china_india);"
   ]
  },
  {
   "cell_type": "code",
   "execution_count": 361,
   "id": "1d27326e",
   "metadata": {},
   "outputs": [
    {
     "data": {
      "text/plain": [
       "Season\n",
       "Summer    37999494.0\n",
       "Winter    35851774.0\n",
       "Name: Population, dtype: float64"
      ]
     },
     "execution_count": 361,
     "metadata": {},
     "output_type": "execute_result"
    }
   ],
   "source": [
    "no_china_india.groupby(['Season'])['Population'].median()"
   ]
  },
  {
   "cell_type": "markdown",
   "id": "a4986c97",
   "metadata": {},
   "source": [
    "USSR / DURING AND AFTER"
   ]
  },
  {
   "cell_type": "code",
   "execution_count": 377,
   "id": "ddfaaf0d",
   "metadata": {},
   "outputs": [
    {
     "data": {
      "text/html": [
       "<div>\n",
       "<style scoped>\n",
       "    .dataframe tbody tr th:only-of-type {\n",
       "        vertical-align: middle;\n",
       "    }\n",
       "\n",
       "    .dataframe tbody tr th {\n",
       "        vertical-align: top;\n",
       "    }\n",
       "\n",
       "    .dataframe thead th {\n",
       "        text-align: right;\n",
       "    }\n",
       "</style>\n",
       "<table border=\"1\" class=\"dataframe\">\n",
       "  <thead>\n",
       "    <tr style=\"text-align: right;\">\n",
       "      <th></th>\n",
       "      <th>Year</th>\n",
       "      <th>NOC</th>\n",
       "      <th>Medal</th>\n",
       "      <th>Sport</th>\n",
       "    </tr>\n",
       "  </thead>\n",
       "  <tbody>\n",
       "    <tr>\n",
       "      <th>0</th>\n",
       "      <td>1992</td>\n",
       "      <td>CHN</td>\n",
       "      <td>N</td>\n",
       "      <td>Basketball</td>\n",
       "    </tr>\n",
       "    <tr>\n",
       "      <th>1</th>\n",
       "      <td>2012</td>\n",
       "      <td>CHN</td>\n",
       "      <td>N</td>\n",
       "      <td>Judo</td>\n",
       "    </tr>\n",
       "    <tr>\n",
       "      <th>2</th>\n",
       "      <td>1920</td>\n",
       "      <td>DEN</td>\n",
       "      <td>N</td>\n",
       "      <td>Football</td>\n",
       "    </tr>\n",
       "    <tr>\n",
       "      <th>3</th>\n",
       "      <td>1900</td>\n",
       "      <td>DEN</td>\n",
       "      <td>G</td>\n",
       "      <td>Tug-Of-War</td>\n",
       "    </tr>\n",
       "    <tr>\n",
       "      <th>4</th>\n",
       "      <td>1988</td>\n",
       "      <td>NED</td>\n",
       "      <td>N</td>\n",
       "      <td>Speed Skating</td>\n",
       "    </tr>\n",
       "  </tbody>\n",
       "</table>\n",
       "</div>"
      ],
      "text/plain": [
       "   Year  NOC Medal          Sport\n",
       "0  1992  CHN     N     Basketball\n",
       "1  2012  CHN     N           Judo\n",
       "2  1920  DEN     N       Football\n",
       "3  1900  DEN     G     Tug-Of-War\n",
       "4  1988  NED     N  Speed Skating"
      ]
     },
     "execution_count": 377,
     "metadata": {},
     "output_type": "execute_result"
    }
   ],
   "source": [
    "df_ussr = merge2.filter(['Year', 'NOC', 'Medal', 'Sport'])\n",
    "df_ussr.head()"
   ]
  },
  {
   "cell_type": "markdown",
   "id": "20471018",
   "metadata": {},
   "source": [
    "NOC codes for USSR and the fifteen countries that remained in 1991 after collapse\n",
    "USSR URS (1922 -1991)\n",
    "Unified Team EUN (russia 1992)\n",
    "\n",
    "Armenia ARM \\\\\n",
    "Moldova MDA \\\\\n",
    "Estonia EST \\\\\n",
    "Latvia LAT \\\\\n",
    "Lithuania LTU \\\\\n",
    "Georgia GEO \\\\\n",
    "Azerbaijan AZE \\\\\n",
    "Tajikistan TJK \\\\\n",
    "Kyrgyzstan  KGZ \\\\\n",
    "Belarus BLR \\\\\n",
    "Uzbekistan  UZB \\\\\n",
    "Turkmenistan TKM \\\\\n",
    "Ukraine UKR \\\\\n",
    "Kazakhstan KAZ \\\\\n",
    "Russia RUS \\\\\n"
   ]
  },
  {
   "cell_type": "code",
   "execution_count": 363,
   "id": "81df57ca",
   "metadata": {},
   "outputs": [
    {
     "data": {
      "text/html": [
       "<div>\n",
       "<style scoped>\n",
       "    .dataframe tbody tr th:only-of-type {\n",
       "        vertical-align: middle;\n",
       "    }\n",
       "\n",
       "    .dataframe tbody tr th {\n",
       "        vertical-align: top;\n",
       "    }\n",
       "\n",
       "    .dataframe thead th {\n",
       "        text-align: right;\n",
       "    }\n",
       "</style>\n",
       "<table border=\"1\" class=\"dataframe\">\n",
       "  <thead>\n",
       "    <tr style=\"text-align: right;\">\n",
       "      <th></th>\n",
       "      <th>Year</th>\n",
       "      <th>NOC</th>\n",
       "      <th>Medal</th>\n",
       "      <th>Sport</th>\n",
       "    </tr>\n",
       "  </thead>\n",
       "  <tbody>\n",
       "    <tr>\n",
       "      <th>180993</th>\n",
       "      <td>1998</td>\n",
       "      <td>LTU</td>\n",
       "      <td>N</td>\n",
       "      <td>Cross Country Skiing</td>\n",
       "    </tr>\n",
       "    <tr>\n",
       "      <th>228753</th>\n",
       "      <td>1960</td>\n",
       "      <td>URS</td>\n",
       "      <td>N</td>\n",
       "      <td>Speed Skating</td>\n",
       "    </tr>\n",
       "    <tr>\n",
       "      <th>120</th>\n",
       "      <td>1998</td>\n",
       "      <td>EST</td>\n",
       "      <td>N</td>\n",
       "      <td>Cross Country Skiing</td>\n",
       "    </tr>\n",
       "  </tbody>\n",
       "</table>\n",
       "</div>"
      ],
      "text/plain": [
       "        Year  NOC Medal                 Sport\n",
       "180993  1998  LTU     N  Cross Country Skiing\n",
       "228753  1960  URS     N         Speed Skating\n",
       "120     1998  EST     N  Cross Country Skiing"
      ]
     },
     "execution_count": 363,
     "metadata": {},
     "output_type": "execute_result"
    }
   ],
   "source": [
    "countries = df_ussr.loc[((df_ussr['NOC'] == 'URS') | (df_ussr['NOC'] == 'ARM') | (df_ussr['NOC'] == 'MDA') | (df_ussr['NOC'] == 'EST') |\n",
    "                      (df_ussr['NOC'] == 'LAT') | (df_ussr['NOC'] == 'LTU') | (df_ussr['NOC'] == 'GEO') | (df_ussr['NOC'] == 'AZE') |\n",
    "                      (df_ussr['NOC'] == 'TJK') | (df_ussr['NOC'] == 'KGZ') | (df_ussr['NOC'] == 'BLR') | (df_ussr['NOC'] == 'UZB') |\n",
    "                      (df_ussr['NOC'] == 'TKM') | (df_ussr['NOC'] == 'UKR') | (df_ussr['NOC'] == 'KAZ') | (df_ussr['NOC'] == 'RUS') |\n",
    "                      (df_ussr['NOC'] == 'EUN'))]\n",
    "countries.sample(3)"
   ]
  },
  {
   "cell_type": "code",
   "execution_count": 364,
   "id": "bff52cc0",
   "metadata": {},
   "outputs": [
    {
     "data": {
      "text/plain": [
       "1924"
      ]
     },
     "execution_count": 364,
     "metadata": {},
     "output_type": "execute_result"
    }
   ],
   "source": [
    "countries = countries[countries.Year>=1922]\n",
    "countries[\"Year\"].min()"
   ]
  },
  {
   "cell_type": "code",
   "execution_count": 365,
   "id": "9a1cdf04",
   "metadata": {
    "scrolled": false
   },
   "outputs": [
    {
     "data": {
      "text/plain": [
       "NOC\n",
       "ARM     221\n",
       "AZE     283\n",
       "BLR    1787\n",
       "EST     856\n",
       "EUN     864\n",
       "GEO     286\n",
       "KAZ    1429\n",
       "KGZ     227\n",
       "LAT     951\n",
       "LTU     654\n",
       "MDA     234\n",
       "RUS    4865\n",
       "TJK      70\n",
       "TKM      54\n",
       "UKR    2559\n",
       "URS    5685\n",
       "UZB     495\n",
       "dtype: int64"
      ]
     },
     "execution_count": 365,
     "metadata": {},
     "output_type": "execute_result"
    }
   ],
   "source": [
    "ath_num = countries.groupby('NOC').size()\n",
    "ath_num"
   ]
  },
  {
   "cell_type": "code",
   "execution_count": 366,
   "id": "3ca93894",
   "metadata": {},
   "outputs": [
    {
     "data": {
      "image/png": "[encoded data removed]",
      "text/plain": [
       "<Figure size 864x360 with 1 Axes>"
      ]
     },
     "metadata": {},
     "output_type": "display_data"
    }
   ],
   "source": [
    "x = ath_num.plot.bar(x='NOC', y='Athletes', title='Number of Athletes 1924 - 2016', xlabel='country', ylabel='Number of Medals',\n",
    "               figsize=(12,5),rot=45, color='green');\n",
    "x.bar_label(x.containers[0]);"
   ]
  },
  {
   "cell_type": "code",
   "execution_count": 367,
   "id": "c1d291b6",
   "metadata": {},
   "outputs": [
    {
     "data": {
      "text/html": [
       "<div>\n",
       "<style scoped>\n",
       "    .dataframe tbody tr th:only-of-type {\n",
       "        vertical-align: middle;\n",
       "    }\n",
       "\n",
       "    .dataframe tbody tr th {\n",
       "        vertical-align: top;\n",
       "    }\n",
       "\n",
       "    .dataframe thead th {\n",
       "        text-align: right;\n",
       "    }\n",
       "</style>\n",
       "<table border=\"1\" class=\"dataframe\">\n",
       "  <thead>\n",
       "    <tr style=\"text-align: right;\">\n",
       "      <th></th>\n",
       "      <th>Year</th>\n",
       "      <th>NOC</th>\n",
       "      <th>Medal</th>\n",
       "      <th>Sport</th>\n",
       "    </tr>\n",
       "  </thead>\n",
       "  <tbody>\n",
       "    <tr>\n",
       "      <th>236800</th>\n",
       "      <td>1960</td>\n",
       "      <td>URS</td>\n",
       "      <td>S</td>\n",
       "      <td>Modern Pentathlon</td>\n",
       "    </tr>\n",
       "    <tr>\n",
       "      <th>56417</th>\n",
       "      <td>2016</td>\n",
       "      <td>RUS</td>\n",
       "      <td>B</td>\n",
       "      <td>Cycling</td>\n",
       "    </tr>\n",
       "    <tr>\n",
       "      <th>265163</th>\n",
       "      <td>2000</td>\n",
       "      <td>RUS</td>\n",
       "      <td>S</td>\n",
       "      <td>Water Polo</td>\n",
       "    </tr>\n",
       "  </tbody>\n",
       "</table>\n",
       "</div>"
      ],
      "text/plain": [
       "        Year  NOC Medal              Sport\n",
       "236800  1960  URS     S  Modern Pentathlon\n",
       "56417   2016  RUS     B            Cycling\n",
       "265163  2000  RUS     S         Water Polo"
      ]
     },
     "execution_count": 367,
     "metadata": {},
     "output_type": "execute_result"
    }
   ],
   "source": [
    "countries2 = countries.loc[((countries['Medal'] == 'G') | (countries['Medal'] == 'S') | (countries['Medal'] == 'B'))]\n",
    "countries2.sample(3)               \n"
   ]
  },
  {
   "cell_type": "code",
   "execution_count": 368,
   "id": "5f9f871e",
   "metadata": {
    "scrolled": true
   },
   "outputs": [
    {
     "data": {
      "text/plain": [
       "NOC\n",
       "ARM      16\n",
       "AZE      44\n",
       "BLR     139\n",
       "EST      47\n",
       "EUN     279\n",
       "GEO      32\n",
       "KAZ      77\n",
       "KGZ       3\n",
       "LAT      35\n",
       "LTU      61\n",
       "MDA       8\n",
       "RUS    1148\n",
       "TJK       4\n",
       "UKR     199\n",
       "URS    2503\n",
       "UZB      34\n",
       "dtype: int64"
      ]
     },
     "execution_count": 368,
     "metadata": {},
     "output_type": "execute_result"
    }
   ],
   "source": [
    "medal = countries2.groupby('NOC').size()\n",
    "medal\n"
   ]
  },
  {
   "cell_type": "code",
   "execution_count": 369,
   "id": "c428a05a",
   "metadata": {},
   "outputs": [
    {
     "data": {
      "image/png": "[encoded data removed]",
      "text/plain": [
       "<Figure size 864x360 with 1 Axes>"
      ]
     },
     "metadata": {},
     "output_type": "display_data"
    }
   ],
   "source": [
    "x = medal.plot.bar(x='NOC', y='Medal', title='Number of Medals 1924 - 2016', xlabel='country', ylabel='Number of Medals',\n",
    "               figsize=(12,5),rot=45, color='blue');\n",
    "x.bar_label(x.containers[0]);"
   ]
  },
  {
   "cell_type": "code",
   "execution_count": 370,
   "id": "e9f8c825",
   "metadata": {},
   "outputs": [
    {
     "data": {
      "text/html": [
       "<div>\n",
       "<style scoped>\n",
       "    .dataframe tbody tr th:only-of-type {\n",
       "        vertical-align: middle;\n",
       "    }\n",
       "\n",
       "    .dataframe tbody tr th {\n",
       "        vertical-align: top;\n",
       "    }\n",
       "\n",
       "    .dataframe thead th {\n",
       "        text-align: right;\n",
       "    }\n",
       "</style>\n",
       "<table border=\"1\" class=\"dataframe\">\n",
       "  <thead>\n",
       "    <tr style=\"text-align: right;\">\n",
       "      <th></th>\n",
       "      <th>Country</th>\n",
       "      <th>NumAth</th>\n",
       "      <th>NumMed</th>\n",
       "    </tr>\n",
       "  </thead>\n",
       "  <tbody>\n",
       "    <tr>\n",
       "      <th>15</th>\n",
       "      <td>URS</td>\n",
       "      <td>5685</td>\n",
       "      <td>2503</td>\n",
       "    </tr>\n",
       "    <tr>\n",
       "      <th>6</th>\n",
       "      <td>KAZ</td>\n",
       "      <td>1429</td>\n",
       "      <td>77</td>\n",
       "    </tr>\n",
       "    <tr>\n",
       "      <th>1</th>\n",
       "      <td>AZE</td>\n",
       "      <td>283</td>\n",
       "      <td>44</td>\n",
       "    </tr>\n",
       "    <tr>\n",
       "      <th>4</th>\n",
       "      <td>EUN</td>\n",
       "      <td>864</td>\n",
       "      <td>279</td>\n",
       "    </tr>\n",
       "    <tr>\n",
       "      <th>14</th>\n",
       "      <td>UKR</td>\n",
       "      <td>2559</td>\n",
       "      <td>199</td>\n",
       "    </tr>\n",
       "  </tbody>\n",
       "</table>\n",
       "</div>"
      ],
      "text/plain": [
       "   Country  NumAth  NumMed\n",
       "15     URS    5685    2503\n",
       "6      KAZ    1429      77\n",
       "1      AZE     283      44\n",
       "4      EUN     864     279\n",
       "14     UKR    2559     199"
      ]
     },
     "execution_count": 370,
     "metadata": {},
     "output_type": "execute_result"
    }
   ],
   "source": [
    "sov_data = [['ARM', 221, 16], ['AZE', 283, 44], ['BLR', 1787, 139], ['EST', 856, 47], ['EUN', 864, 279],\n",
    "['GEO', 286, 32], ['KAZ', 1429, 77], ['KGZ', 227, 3], ['LAT', 951, 35], ['LTU', 654, 61],\n",
    "['MDA', 234, 8], ['RUS', 4865, 1148], ['TJK', 70, 4], ['TKM', 54, 0], ['UKR', 2559, 199], ['URS', 5685, 2503],\n",
    "['UZB', 495, 34]]\n",
    "df_soviet = pd.DataFrame(sov_data, columns = ['Country', 'NumAth', 'NumMed'])\n",
    "df_soviet.sample(5)"
   ]
  },
  {
   "cell_type": "code",
   "execution_count": 371,
   "id": "30e9e560",
   "metadata": {},
   "outputs": [
    {
     "data": {
      "text/html": [
       "<div>\n",
       "<style scoped>\n",
       "    .dataframe tbody tr th:only-of-type {\n",
       "        vertical-align: middle;\n",
       "    }\n",
       "\n",
       "    .dataframe tbody tr th {\n",
       "        vertical-align: top;\n",
       "    }\n",
       "\n",
       "    .dataframe thead th {\n",
       "        text-align: right;\n",
       "    }\n",
       "</style>\n",
       "<table border=\"1\" class=\"dataframe\">\n",
       "  <thead>\n",
       "    <tr style=\"text-align: right;\">\n",
       "      <th></th>\n",
       "      <th>Country</th>\n",
       "      <th>NumAth</th>\n",
       "      <th>NumMed</th>\n",
       "      <th>medal_percent</th>\n",
       "    </tr>\n",
       "  </thead>\n",
       "  <tbody>\n",
       "    <tr>\n",
       "      <th>7</th>\n",
       "      <td>KGZ</td>\n",
       "      <td>227</td>\n",
       "      <td>3</td>\n",
       "      <td>1.32</td>\n",
       "    </tr>\n",
       "    <tr>\n",
       "      <th>1</th>\n",
       "      <td>AZE</td>\n",
       "      <td>283</td>\n",
       "      <td>44</td>\n",
       "      <td>15.55</td>\n",
       "    </tr>\n",
       "    <tr>\n",
       "      <th>13</th>\n",
       "      <td>TKM</td>\n",
       "      <td>54</td>\n",
       "      <td>0</td>\n",
       "      <td>0.00</td>\n",
       "    </tr>\n",
       "    <tr>\n",
       "      <th>12</th>\n",
       "      <td>TJK</td>\n",
       "      <td>70</td>\n",
       "      <td>4</td>\n",
       "      <td>5.71</td>\n",
       "    </tr>\n",
       "    <tr>\n",
       "      <th>4</th>\n",
       "      <td>EUN</td>\n",
       "      <td>864</td>\n",
       "      <td>279</td>\n",
       "      <td>32.29</td>\n",
       "    </tr>\n",
       "  </tbody>\n",
       "</table>\n",
       "</div>"
      ],
      "text/plain": [
       "   Country  NumAth  NumMed  medal_percent\n",
       "7      KGZ     227       3           1.32\n",
       "1      AZE     283      44          15.55\n",
       "13     TKM      54       0           0.00\n",
       "12     TJK      70       4           5.71\n",
       "4      EUN     864     279          32.29"
      ]
     },
     "execution_count": 371,
     "metadata": {},
     "output_type": "execute_result"
    }
   ],
   "source": [
    "df_soviet['medal_percent'] = (((df_soviet['NumMed'])/(df_soviet['NumAth']))*100)\n",
    "df_soviet['medal_percent'] = df_soviet['medal_percent'].round(decimals = 2)\n",
    "df_soviet.sample(5)"
   ]
  },
  {
   "cell_type": "code",
   "execution_count": 372,
   "id": "6899bbdf",
   "metadata": {},
   "outputs": [
    {
     "data": {
      "image/png": "[encoded data removed]",
      "text/plain": [
       "<Figure size 864x360 with 1 Axes>"
      ]
     },
     "metadata": {},
     "output_type": "display_data"
    }
   ],
   "source": [
    "m = df_soviet.plot.bar(x='Country', y='medal_percent', title='Number of Medals per Athlete 1924 - 2016', xlabel='country',\n",
    "               figsize=(12,5),rot=45, color='gray');\n",
    "m.bar_label(m.containers[0]);"
   ]
  },
  {
   "cell_type": "code",
   "execution_count": 373,
   "id": "d4e437fd",
   "metadata": {
    "scrolled": true
   },
   "outputs": [
    {
     "name": "stdout",
     "output_type": "stream",
     "text": [
      "Athletics                855\n",
      "Gymnastics               797\n",
      "Swimming                 471\n",
      "Rowing                   321\n",
      "Fencing                  279\n",
      "Cross Country Skiing     247\n",
      "Speed Skating            222\n",
      "Ice Hockey               168\n",
      "Equestrianism            162\n",
      "Wrestling                160\n",
      "Cycling                  151\n",
      "Basketball               146\n",
      "Volleyball               141\n",
      "Canoeing                 141\n",
      "Shooting                 139\n",
      "Sailing                  110\n",
      "Alpine Skiing            109\n",
      "Football                 102\n",
      "Diving                   100\n",
      "Handball                  99\n",
      "Water Polo                99\n",
      "Boxing                    96\n",
      "Figure Skating            94\n",
      "Weightlifting             71\n",
      "Biathlon                  63\n",
      "Modern Pentathlon         54\n",
      "Ski Jumping               54\n",
      "Luge                      47\n",
      "Hockey                    47\n",
      "Nordic Combined           35\n",
      "Judo                      31\n",
      "Archery                   25\n",
      "Bobsleigh                 24\n",
      "Tennis                    10\n",
      "Table Tennis               8\n",
      "Synchronized Swimming      5\n",
      "Rhythmic Gymnastics        2\n",
      "Name: Sport, dtype: int64\n"
     ]
    },
    {
     "data": {
      "image/png": "[encoded data removed]",
      "text/plain": [
       "<Figure size 2160x648 with 1 Axes>"
      ]
     },
     "metadata": {},
     "output_type": "display_data"
    }
   ],
   "source": [
    "ussr_only = merge2.loc[(merge2['NOC'] == 'URS')]\n",
    "print(ussr_only[('Sport')].value_counts(dropna=True))\n",
    "fig, ax=plt.subplots(figsize=(30,9))\n",
    "plt.xticks(rotation=90)\n",
    "\n",
    "sp = sns.countplot(x=\"Sport\", data=ussr_only);\n",
    "sp.bar_label(sp.containers[0]);"
   ]
  },
  {
   "cell_type": "code",
   "execution_count": 380,
   "id": "186b14b7",
   "metadata": {},
   "outputs": [
    {
     "name": "stdout",
     "output_type": "stream",
     "text": [
      "Athletics                    432\n",
      "Gymnastics                   429\n",
      "Wrestling                    309\n",
      "Ice Hockey                   233\n",
      "Fencing                      233\n",
      "Basketball                   229\n",
      "Volleyball                   219\n",
      "Rowing                       218\n",
      "Swimming                     209\n",
      "Cross Country Skiing         183\n",
      "Handball                     182\n",
      "Weightlifting                156\n",
      "Canoeing                     155\n",
      "Boxing                       150\n",
      "Water Polo                   142\n",
      "Biathlon                     122\n",
      "Shooting                     113\n",
      "Figure Skating               108\n",
      "Cycling                       91\n",
      "Football                      87\n",
      "Speed Skating                 82\n",
      "Judo                          75\n",
      "Rhythmic Gymnastics           75\n",
      "Synchronized Swimming         54\n",
      "Diving                        48\n",
      "Modern Pentathlon             45\n",
      "Sailing                       43\n",
      "Hockey                        32\n",
      "Equestrianism                 29\n",
      "Bobsleigh                     24\n",
      "Archery                       23\n",
      "Luge                          22\n",
      "Tennis                        16\n",
      "Short Track Speed Skating     12\n",
      "Freestyle Skiing              12\n",
      "Trampolining                   8\n",
      "Taekwondo                      8\n",
      "Skeleton                       5\n",
      "Snowboarding                   5\n",
      "Nordic Combined                4\n",
      "Alpine Skiing                  2\n",
      "Beach Volleyball               2\n",
      "Badminton                      2\n",
      "Ski Jumping                    1\n",
      "Name: Sport, dtype: int64\n"
     ]
    },
    {
     "data": {
      "image/png": "[encoded data removed]",
      "text/plain": [
       "<Figure size 1440x648 with 1 Axes>"
      ]
     },
     "metadata": {},
     "output_type": "display_data"
    }
   ],
   "source": [
    "ussr_only2 = countries2[['Sport','Medal']].copy()\n",
    "ussr_only2\n",
    "\n",
    "print(ussr_only2[('Sport')].value_counts(dropna=True))\n",
    "fig, ax=plt.subplots(figsize=(20,9))\n",
    "plt.xticks(rotation=90)\n",
    "\n",
    "v = sns.countplot(x=\"Sport\",data=ussr_only2);\n",
    "v.bar_label(v.containers[0]);\n"
   ]
  },
  {
   "cell_type": "code",
   "execution_count": null,
   "id": "0dc56437",
   "metadata": {},
   "outputs": [],
   "source": []
  }
 ],
 "metadata": {
  "kernelspec": {
   "display_name": "Python 3 (ipykernel)",
   "language": "python",
   "name": "python3"
  },
  "language_info": {
   "codemirror_mode": {
    "name": "ipython",
    "version": 3
   },
   "file_extension": ".py",
   "mimetype": "text/x-python",
   "name": "python",
   "nbconvert_exporter": "python",
   "pygments_lexer": "ipython3",
   "version": "3.8.10"
  }
 },
 "nbformat": 4,
 "nbformat_minor": 5
}
